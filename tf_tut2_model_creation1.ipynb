{
 "cells": [
  {
   "cell_type": "markdown",
   "id": "2871fe25-1e46-4df3-a4df-27c5d24da2b2",
   "metadata": {},
   "source": [
    "## Reading dataset\n",
    "Lets read MNIST dataset and display first few images"
   ]
  },
  {
   "cell_type": "code",
   "execution_count": 9,
   "id": "0397f8d7-b9e4-4ad3-b84f-d1622c0a4373",
   "metadata": {},
   "outputs": [
    {
     "name": "stdout",
     "output_type": "stream",
     "text": [
      "x_train shape: (60000, 28, 28)\n",
      "y_train shape: (60000,)\n",
      "x_test shape: (10000, 28, 28)\n",
      "y_test shape: (10000,)\n"
     ]
    },
    {
     "data": {
      "image/png": "[encoded data removed]",
      "text/plain": [
       "<Figure size 1200x600 with 6 Axes>"
      ]
     },
     "metadata": {},
     "output_type": "display_data"
    }
   ],
   "source": [
    "import tensorflow as tf\n",
    "from tensorflow.keras.datasets import mnist\n",
    "import matplotlib.pyplot as plt\n",
    "\n",
    "# Step 1: Load the MNIST dataset\n",
    "(x_train, y_train), (x_test, y_test) = mnist.load_data()\n",
    "\n",
    "# Step 2: Display the shape of the dataset\n",
    "print(f\"x_train shape: {x_train.shape}\")  # (60000, 28, 28)\n",
    "print(f\"y_train shape: {y_train.shape}\")  # (60000,)\n",
    "print(f\"x_test shape: {x_test.shape}\")    # (10000, 28, 28)\n",
    "print(f\"y_test shape: {y_test.shape}\")    # (10000,)\n",
    "\n",
    "# Step 3: Display the first 6 images with their labels\n",
    "plt.figure(figsize=(12, 6))  # Set the figure size\n",
    "for i in range(6):\n",
    "    plt.subplot(2, 3, i + 1)  # Create a 2x3 grid for 6 images\n",
    "    plt.imshow(x_train[i], cmap='gray')  # Display the image in grayscale\n",
    "    plt.title(f\"Label: {y_train[i]}\")  # Set the title as the label\n",
    "    plt.axis('off')  # Turn off axis\n",
    "plt.tight_layout()\n",
    "plt.show()\n"
   ]
  },
  {
   "cell_type": "markdown",
   "id": "24a6a0f0-745f-44e4-9436-11776c1ccd75",
   "metadata": {},
   "source": [
    "Lets read Iris datset"
   ]
  },
  {
   "cell_type": "code",
   "execution_count": 15,
   "id": "75c26dc5-a5d0-4604-accc-0af1dfbc0f1b",
   "metadata": {},
   "outputs": [
    {
     "name": "stdout",
     "output_type": "stream",
     "text": [
      "First 10 samples of the Iris dataset:\n",
      "   sepal length (cm)  sepal width (cm)  petal length (cm)  petal width (cm)  \\\n",
      "0                5.1               3.5                1.4               0.2   \n",
      "1                4.9               3.0                1.4               0.2   \n",
      "2                4.7               3.2                1.3               0.2   \n",
      "3                4.6               3.1                1.5               0.2   \n",
      "4                5.0               3.6                1.4               0.2   \n",
      "5                5.4               3.9                1.7               0.4   \n",
      "6                4.6               3.4                1.4               0.3   \n",
      "7                5.0               3.4                1.5               0.2   \n",
      "8                4.4               2.9                1.4               0.2   \n",
      "9                4.9               3.1                1.5               0.1   \n",
      "\n",
      "   species  \n",
      "0        0  \n",
      "1        0  \n",
      "2        0  \n",
      "3        0  \n",
      "4        0  \n",
      "5        0  \n",
      "6        0  \n",
      "7        0  \n",
      "8        0  \n",
      "9        0  \n",
      "Statistics of all features and labels:\n",
      "       sepal length (cm)  sepal width (cm)  petal length (cm)  \\\n",
      "count         150.000000        150.000000         150.000000   \n",
      "mean            5.843333          3.057333           3.758000   \n",
      "std             0.828066          0.435866           1.765298   \n",
      "min             4.300000          2.000000           1.000000   \n",
      "25%             5.100000          2.800000           1.600000   \n",
      "50%             5.800000          3.000000           4.350000   \n",
      "75%             6.400000          3.300000           5.100000   \n",
      "max             7.900000          4.400000           6.900000   \n",
      "\n",
      "       petal width (cm)     species  \n",
      "count        150.000000  150.000000  \n",
      "mean           1.199333    1.000000  \n",
      "std            0.762238    0.819232  \n",
      "min            0.100000    0.000000  \n",
      "25%            0.300000    0.000000  \n",
      "50%            1.300000    1.000000  \n",
      "75%            1.800000    2.000000  \n",
      "max            2.500000    2.000000  \n",
      "Number of unique species: 3\n",
      "Species names: [np.str_('setosa'), np.str_('versicolor'), np.str_('virginica')]\n"
     ]
    }
   ],
   "source": [
    "from sklearn.datasets import load_iris\n",
    "import matplotlib.pyplot as plt\n",
    "import pandas as pd\n",
    "\n",
    "# Step 1: Load the Iris dataset\n",
    "iris = load_iris()\n",
    "X = iris.data  # Features: Sepal length, Sepal width, Petal length, Petal width\n",
    "y = iris.target  # Target: Species (0, 1, 2)\n",
    "feature_names = iris.feature_names  # Feature names\n",
    "target_names = iris.target_names  # Class names\n",
    "\n",
    "# Convert the data to a Pandas DataFrame for easier visualization\n",
    "iris_df = pd.DataFrame(X, columns=feature_names)\n",
    "iris_df['species'] = y\n",
    "\n",
    "# Step 2: Display the first 6 samples\n",
    "print(\"First 10 samples of the Iris dataset:\")\n",
    "print(iris_df.head(10))\n",
    "\n",
    "# Step 3: View statistics for all features, including labels\n",
    "print(\"Statistics of all features and labels:\")\n",
    "print(iris_df.describe(include='all'))\n",
    "\n",
    "# Find unique species and count them\n",
    "unique_species = iris_df['species'].unique()\n",
    "species_names = [target_names[label] for label in unique_species]\n",
    "\n",
    "print(f\"Number of unique species: {len(unique_species)}\")\n",
    "print(\"Species names:\", species_names)"
   ]
  },
  {
   "cell_type": "markdown",
   "id": "668a39c2-f364-4d76-8049-091d95bed41e",
   "metadata": {},
   "source": [
    "## Using TensorFlow in Machine Learning: simple example\n",
    "One of the most common uses of TensorFlow is building and training machine learning models. Let’s create a simple neural network model using TensorFlow's high-level API, Keras.\n",
    "\n",
    "We'll build a model to predict a simple function \n",
    "\n",
    "y=2x+1.\n",
    "\n",
    "This process took 3 minutes on CPU"
   ]
  },
  {
   "cell_type": "code",
   "execution_count": 1,
   "id": "be795dad-36ee-4054-b0bc-c627b4ad1e61",
   "metadata": {},
   "outputs": [
    {
     "name": "stderr",
     "output_type": "stream",
     "text": [
      "c:\\Users\\hi\\Desktop\\projects\\python_projects\\ai_projects\\GenAI_GAN1\\.venv\\Lib\\site-packages\\keras\\src\\layers\\core\\dense.py:87: UserWarning: Do not pass an `input_shape`/`input_dim` argument to a layer. When using Sequential models, prefer using an `Input(shape)` object as the first layer in the model instead.\n",
      "  super().__init__(activity_regularizer=activity_regularizer, **kwargs)\n"
     ]
    },
    {
     "name": "stdout",
     "output_type": "stream",
     "text": [
      "\u001b[1m1/1\u001b[0m \u001b[32m━━━━━━━━━━━━━━━━━━━━\u001b[0m\u001b[37m\u001b[0m \u001b[1m0s\u001b[0m 83ms/step\n",
      "Predictions on x_test:\n",
      " [[ 2.9525716]\n",
      " [ 4.9770174]\n",
      " [ 7.001463 ]\n",
      " [ 9.025908 ]\n",
      " [11.050354 ]\n",
      " [13.0748   ]]\n"
     ]
    }
   ],
   "source": [
    "import tensorflow as tf\n",
    "from tensorflow.keras import layers, models\n",
    "\n",
    "# Generate some sample data\n",
    "import numpy as np\n",
    "\n",
    "x = np.array([[1], [2], [3], [4]], dtype=np.float32)\n",
    "y = np.array([[3], [5], [7], [9]], dtype=np.float32)  # y = 2x + 1\n",
    "\n",
    "# Build a simple model\n",
    "model = models.Sequential()\n",
    "model.add(layers.Dense(1, input_dim=1))  # Single input, single output\n",
    "\n",
    "# Compile the model\n",
    "model.compile(optimizer='sgd', loss='mean_squared_error')\n",
    "\n",
    "# Train the model\n",
    "model.fit(x, y, epochs=500, verbose=0)\n",
    "\n",
    "# Make predictions\n",
    "x_test = np.array([[1], [2], [3], [4] ,[5], [6]], dtype=np.float32)\n",
    "predictions = model.predict(x_test)\n",
    "print(\"Predictions on x_test:\\n\", predictions)\n"
   ]
  },
  {
   "cell_type": "markdown",
   "id": "f1e9313e-540b-430d-8b27-4f6edfb430ad",
   "metadata": {
    "jp-MarkdownHeadingCollapsed": true
   },
   "source": [
    "## Creating a Simple Neural Network using tf.keras\n",
    "tf.keras is TensorFlow's high-level API to build and train deep learning models. You can define models using the Sequential class for a simple stack of layers\n",
    "\n",
    "Example (Simple Feedforward Neural Network):"
   ]
  },
  {
   "cell_type": "code",
   "execution_count": 2,
   "id": "827cc144-db80-4b07-bd37-8fac291d0279",
   "metadata": {},
   "outputs": [
    {
     "data": {
      "text/html": [
       "<pre style=\"white-space:pre;overflow-x:auto;line-height:normal;font-family:Menlo,'DejaVu Sans Mono',consolas,'Courier New',monospace\"><span style=\"font-weight: bold\">Model: \"sequential_1\"</span>\n",
       "</pre>\n"
      ],
      "text/plain": [
       "\u001b[1mModel: \"sequential_1\"\u001b[0m\n"
      ]
     },
     "metadata": {},
     "output_type": "display_data"
    },
    {
     "data": {
      "text/html": [
       "<pre style=\"white-space:pre;overflow-x:auto;line-height:normal;font-family:Menlo,'DejaVu Sans Mono',consolas,'Courier New',monospace\">┏━━━━━━━━━━━━━━━━━━━━━━━━━━━━━━━━━━━━━━┳━━━━━━━━━━━━━━━━━━━━━━━━━━━━━┳━━━━━━━━━━━━━━━━━┓\n",
       "┃<span style=\"font-weight: bold\"> Layer (type)                         </span>┃<span style=\"font-weight: bold\"> Output Shape                </span>┃<span style=\"font-weight: bold\">         Param # </span>┃\n",
       "┡━━━━━━━━━━━━━━━━━━━━━━━━━━━━━━━━━━━━━━╇━━━━━━━━━━━━━━━━━━━━━━━━━━━━━╇━━━━━━━━━━━━━━━━━┩\n",
       "│ dense_1 (<span style=\"color: #0087ff; text-decoration-color: #0087ff\">Dense</span>)                      │ (<span style=\"color: #00d7ff; text-decoration-color: #00d7ff\">None</span>, <span style=\"color: #00af00; text-decoration-color: #00af00\">64</span>)                  │          <span style=\"color: #00af00; text-decoration-color: #00af00\">50,240</span> │\n",
       "├──────────────────────────────────────┼─────────────────────────────┼─────────────────┤\n",
       "│ dense_2 (<span style=\"color: #0087ff; text-decoration-color: #0087ff\">Dense</span>)                      │ (<span style=\"color: #00d7ff; text-decoration-color: #00d7ff\">None</span>, <span style=\"color: #00af00; text-decoration-color: #00af00\">10</span>)                  │             <span style=\"color: #00af00; text-decoration-color: #00af00\">650</span> │\n",
       "└──────────────────────────────────────┴─────────────────────────────┴─────────────────┘\n",
       "</pre>\n"
      ],
      "text/plain": [
       "┏━━━━━━━━━━━━━━━━━━━━━━━━━━━━━━━━━━━━━━┳━━━━━━━━━━━━━━━━━━━━━━━━━━━━━┳━━━━━━━━━━━━━━━━━┓\n",
       "┃\u001b[1m \u001b[0m\u001b[1mLayer (type)                        \u001b[0m\u001b[1m \u001b[0m┃\u001b[1m \u001b[0m\u001b[1mOutput Shape               \u001b[0m\u001b[1m \u001b[0m┃\u001b[1m \u001b[0m\u001b[1m        Param #\u001b[0m\u001b[1m \u001b[0m┃\n",
       "┡━━━━━━━━━━━━━━━━━━━━━━━━━━━━━━━━━━━━━━╇━━━━━━━━━━━━━━━━━━━━━━━━━━━━━╇━━━━━━━━━━━━━━━━━┩\n",
       "│ dense_1 (\u001b[38;5;33mDense\u001b[0m)                      │ (\u001b[38;5;45mNone\u001b[0m, \u001b[38;5;34m64\u001b[0m)                  │          \u001b[38;5;34m50,240\u001b[0m │\n",
       "├──────────────────────────────────────┼─────────────────────────────┼─────────────────┤\n",
       "│ dense_2 (\u001b[38;5;33mDense\u001b[0m)                      │ (\u001b[38;5;45mNone\u001b[0m, \u001b[38;5;34m10\u001b[0m)                  │             \u001b[38;5;34m650\u001b[0m │\n",
       "└──────────────────────────────────────┴─────────────────────────────┴─────────────────┘\n"
      ]
     },
     "metadata": {},
     "output_type": "display_data"
    },
    {
     "data": {
      "text/html": [
       "<pre style=\"white-space:pre;overflow-x:auto;line-height:normal;font-family:Menlo,'DejaVu Sans Mono',consolas,'Courier New',monospace\"><span style=\"font-weight: bold\"> Total params: </span><span style=\"color: #00af00; text-decoration-color: #00af00\">50,890</span> (198.79 KB)\n",
       "</pre>\n"
      ],
      "text/plain": [
       "\u001b[1m Total params: \u001b[0m\u001b[38;5;34m50,890\u001b[0m (198.79 KB)\n"
      ]
     },
     "metadata": {},
     "output_type": "display_data"
    },
    {
     "data": {
      "text/html": [
       "<pre style=\"white-space:pre;overflow-x:auto;line-height:normal;font-family:Menlo,'DejaVu Sans Mono',consolas,'Courier New',monospace\"><span style=\"font-weight: bold\"> Trainable params: </span><span style=\"color: #00af00; text-decoration-color: #00af00\">50,890</span> (198.79 KB)\n",
       "</pre>\n"
      ],
      "text/plain": [
       "\u001b[1m Trainable params: \u001b[0m\u001b[38;5;34m50,890\u001b[0m (198.79 KB)\n"
      ]
     },
     "metadata": {},
     "output_type": "display_data"
    },
    {
     "data": {
      "text/html": [
       "<pre style=\"white-space:pre;overflow-x:auto;line-height:normal;font-family:Menlo,'DejaVu Sans Mono',consolas,'Courier New',monospace\"><span style=\"font-weight: bold\"> Non-trainable params: </span><span style=\"color: #00af00; text-decoration-color: #00af00\">0</span> (0.00 B)\n",
       "</pre>\n"
      ],
      "text/plain": [
       "\u001b[1m Non-trainable params: \u001b[0m\u001b[38;5;34m0\u001b[0m (0.00 B)\n"
      ]
     },
     "metadata": {},
     "output_type": "display_data"
    }
   ],
   "source": [
    "import tensorflow as tf\n",
    "from tensorflow.keras import layers, models\n",
    "\n",
    "# Create a simple sequential model\n",
    "model = models.Sequential([\n",
    "    layers.Dense(64, activation='relu', input_shape=(784,)),  # Input layer (784 features)\n",
    "    layers.Dense(10, activation='softmax')  # Output layer (10 classes)\n",
    "])\n",
    "\n",
    "# Compile the model\n",
    "model.compile(optimizer='adam', loss='sparse_categorical_crossentropy', metrics=['accuracy'])\n",
    "\n",
    "# Model summary to see the architecture\n",
    "model.summary()\n"
   ]
  },
  {
   "cell_type": "markdown",
   "id": "0e4ee94c-d2ab-4b8b-b29a-55914d91cab3",
   "metadata": {},
   "source": [
    "## Use above model\n",
    "Lets use above model \n",
    "\n",
    "To train a model, you need data. You can use tf.data to load datasets efficiently, and you can train models using the .fit() method on the dataset.\n",
    "\n",
    "Example (Training a model on MNIST data): ( took 2 minutes)"
   ]
  },
  {
   "cell_type": "code",
   "execution_count": 3,
   "id": "73d33807-3af2-4583-8779-e79ab1245835",
   "metadata": {},
   "outputs": [
    {
     "name": "stdout",
     "output_type": "stream",
     "text": [
      "Epoch 1/5\n",
      "\u001b[1m1688/1688\u001b[0m \u001b[32m━━━━━━━━━━━━━━━━━━━━\u001b[0m\u001b[37m\u001b[0m \u001b[1m6s\u001b[0m 3ms/step - accuracy: 0.8506 - loss: 0.5286 - val_accuracy: 0.9618 - val_loss: 0.1444\n",
      "Epoch 2/5\n",
      "\u001b[1m1688/1688\u001b[0m \u001b[32m━━━━━━━━━━━━━━━━━━━━\u001b[0m\u001b[37m\u001b[0m \u001b[1m5s\u001b[0m 3ms/step - accuracy: 0.9531 - loss: 0.1641 - val_accuracy: 0.9673 - val_loss: 0.1142\n",
      "Epoch 3/5\n",
      "\u001b[1m1688/1688\u001b[0m \u001b[32m━━━━━━━━━━━━━━━━━━━━\u001b[0m\u001b[37m\u001b[0m \u001b[1m5s\u001b[0m 3ms/step - accuracy: 0.9657 - loss: 0.1141 - val_accuracy: 0.9705 - val_loss: 0.1023\n",
      "Epoch 4/5\n",
      "\u001b[1m1688/1688\u001b[0m \u001b[32m━━━━━━━━━━━━━━━━━━━━\u001b[0m\u001b[37m\u001b[0m \u001b[1m5s\u001b[0m 3ms/step - accuracy: 0.9733 - loss: 0.0879 - val_accuracy: 0.9747 - val_loss: 0.0891\n",
      "Epoch 5/5\n",
      "\u001b[1m1688/1688\u001b[0m \u001b[32m━━━━━━━━━━━━━━━━━━━━\u001b[0m\u001b[37m\u001b[0m \u001b[1m5s\u001b[0m 3ms/step - accuracy: 0.9786 - loss: 0.0700 - val_accuracy: 0.9698 - val_loss: 0.0966\n",
      "\u001b[1m313/313\u001b[0m \u001b[32m━━━━━━━━━━━━━━━━━━━━\u001b[0m\u001b[37m\u001b[0m \u001b[1m1s\u001b[0m 2ms/step - accuracy: 0.9655 - loss: 0.1195  \n",
      "Test accuracy: 0.97\n",
      "\u001b[1m1/1\u001b[0m \u001b[32m━━━━━━━━━━━━━━━━━━━━\u001b[0m\u001b[37m\u001b[0m \u001b[1m0s\u001b[0m 138ms/step\n",
      "Predictions for the first 5 test samples:\n",
      "[7 2 1 0 4]\n",
      "True labels: [7 2 1 0 4]\n"
     ]
    },
    {
     "data": {
      "image/png": "[encoded data removed]",
      "text/plain": [
       "<Figure size 1000x500 with 5 Axes>"
      ]
     },
     "metadata": {},
     "output_type": "display_data"
    }
   ],
   "source": [
    "import tensorflow as tf\n",
    "from tensorflow.keras import layers, models\n",
    "from tensorflow.keras.datasets import mnist\n",
    "import matplotlib.pyplot as plt\n",
    "\n",
    "# Step 1: Load and preprocess the MNIST dataset\n",
    "(x_train, y_train), (x_test, y_test) = mnist.load_data()  # Load dataset\n",
    "x_train = x_train.reshape(-1, 784).astype('float32') / 255.0  # Flatten and normalize training data\n",
    "x_test = x_test.reshape(-1, 784).astype('float32') / 255.0    # Flatten and normalize test data\n",
    "\n",
    "# Step 2: Create a simple sequential model\n",
    "model = models.Sequential([\n",
    "    layers.Dense(64, activation='relu', input_shape=(784,)),  # Input layer (784 features)\n",
    "    layers.Dense(10, activation='softmax')  # Output layer (10 classes)\n",
    "])\n",
    "\n",
    "# Step 3: Compile the model\n",
    "model.compile(optimizer='adam', loss='sparse_categorical_crossentropy', metrics=['accuracy'])\n",
    "\n",
    "# Step 4: Train the model\n",
    "model.fit(x_train, y_train, epochs=5, batch_size=32, validation_split=0.1)  # Train for 5 epochs\n",
    "\n",
    "# Step 5: Evaluate the model\n",
    "test_loss, test_acc = model.evaluate(x_test, y_test)\n",
    "print(f\"Test accuracy: {test_acc:.2f}\")\n",
    "\n",
    "# Step 6: Make predictions\n",
    "predictions = model.predict(x_test[:5])  # Predict on the first 5 samples of the test set\n",
    "predicted_labels = predictions.argmax(axis=1)\n",
    "\n",
    "print(\"Predictions for the first 5 test samples:\")\n",
    "print(predicted_labels)  # Print predicted class labels\n",
    "print(\"True labels:\", y_test[:5])  # Print true class labels\n",
    "\n",
    "# Step 7: Display the first 5 images with predictions\n",
    "x_test_images = x_test[:5].reshape(-1, 28, 28)  # Reshape back to 28x28 for visualization\n",
    "\n",
    "plt.figure(figsize=(10, 5))\n",
    "for i in range(5):\n",
    "    plt.subplot(1, 5, i + 1)  # Create subplots for 5 images\n",
    "    plt.imshow(x_test_images[i], cmap='gray')  # Display the image\n",
    "    plt.title(f\"Pred: {predicted_labels[i]}\\nTrue: {y_test[i]}\")\n",
    "    plt.axis('off')\n",
    "plt.tight_layout()\n",
    "plt.show()"
   ]
  },
  {
   "cell_type": "markdown",
   "id": "70317734-e123-46ff-8c96-58d9ed7f062c",
   "metadata": {},
   "source": [
    "## Create and train different model on the same dataset\n",
    "To train a model, you need data. You can use tf.data to load datasets efficiently, and you can train models using the .fit() method on the dataset.\n",
    "\n",
    "Example (Training a model on MNIST data): ( took 2 minutes)"
   ]
  },
  {
   "cell_type": "code",
   "execution_count": 3,
   "id": "dd42da1e-693e-4b0e-b265-d76d84f32902",
   "metadata": {},
   "outputs": [
    {
     "name": "stderr",
     "output_type": "stream",
     "text": [
      "c:\\Users\\lenovo\\OneDrive\\Desktop\\ashwani_stuff\\GenAI_GAN1\\.venv\\Lib\\site-packages\\keras\\src\\layers\\reshaping\\flatten.py:37: UserWarning: Do not pass an `input_shape`/`input_dim` argument to a layer. When using Sequential models, prefer using an `Input(shape)` object as the first layer in the model instead.\n",
      "  super().__init__(**kwargs)\n"
     ]
    },
    {
     "name": "stdout",
     "output_type": "stream",
     "text": [
      "Epoch 1/5\n",
      "\u001b[1m1875/1875\u001b[0m \u001b[32m━━━━━━━━━━━━━━━━━━━━\u001b[0m\u001b[37m\u001b[0m \u001b[1m7s\u001b[0m 3ms/step - accuracy: 0.8608 - loss: 0.4760\n",
      "Epoch 2/5\n",
      "\u001b[1m1875/1875\u001b[0m \u001b[32m━━━━━━━━━━━━━━━━━━━━\u001b[0m\u001b[37m\u001b[0m \u001b[1m6s\u001b[0m 3ms/step - accuracy: 0.9564 - loss: 0.1472\n",
      "Epoch 3/5\n",
      "\u001b[1m1875/1875\u001b[0m \u001b[32m━━━━━━━━━━━━━━━━━━━━\u001b[0m\u001b[37m\u001b[0m \u001b[1m10s\u001b[0m 3ms/step - accuracy: 0.9673 - loss: 0.1077\n",
      "Epoch 4/5\n",
      "\u001b[1m1875/1875\u001b[0m \u001b[32m━━━━━━━━━━━━━━━━━━━━\u001b[0m\u001b[37m\u001b[0m \u001b[1m6s\u001b[0m 3ms/step - accuracy: 0.9737 - loss: 0.0841\n",
      "Epoch 5/5\n",
      "\u001b[1m1875/1875\u001b[0m \u001b[32m━━━━━━━━━━━━━━━━━━━━\u001b[0m\u001b[37m\u001b[0m \u001b[1m6s\u001b[0m 3ms/step - accuracy: 0.9759 - loss: 0.0749\n",
      "\u001b[1m313/313\u001b[0m \u001b[32m━━━━━━━━━━━━━━━━━━━━\u001b[0m\u001b[37m\u001b[0m \u001b[1m1s\u001b[0m 2ms/step - accuracy: 0.9718 - loss: 0.0930\n",
      "Test accuracy: 0.9761999845504761\n"
     ]
    }
   ],
   "source": [
    "import tensorflow as tf\n",
    "from tensorflow.keras.datasets import mnist\n",
    "\n",
    "# Load and prepare the MNIST dataset\n",
    "(x_train, y_train), (x_test, y_test) = mnist.load_data()\n",
    "\n",
    "# Normalize the data\n",
    "x_train, x_test = x_train / 255.0, x_test / 255.0\n",
    "\n",
    "# Build a simple model (as we did previously)\n",
    "model = tf.keras.Sequential([\n",
    "    tf.keras.layers.Flatten(input_shape=(28, 28)),  # Flatten 28x28 images into 1D\n",
    "    tf.keras.layers.Dense(128, activation='relu'),\n",
    "    tf.keras.layers.Dropout(0.2),\n",
    "    tf.keras.layers.Dense(10, activation='softmax')\n",
    "])\n",
    "\n",
    "# Compile the model\n",
    "model.compile(optimizer='adam', loss='sparse_categorical_crossentropy', metrics=['accuracy'])\n",
    "\n",
    "# Train the model on the MNIST training data\n",
    "model.fit(x_train, y_train, epochs=5)\n",
    "\n",
    "# Evaluate the model on test data\n",
    "test_loss, test_acc = model.evaluate(x_test, y_test)\n",
    "print(f'Test accuracy: {test_acc}')\n"
   ]
  },
  {
   "cell_type": "markdown",
   "id": "dd2b1dcb-be10-4b99-a685-ce697f16d4fa",
   "metadata": {},
   "source": [
    "## Saving and Loading Models\n",
    "Once a model is trained, you can save it to disk and load it later for inference or retraining.\n",
    "\n",
    "Example:"
   ]
  },
  {
   "cell_type": "code",
   "execution_count": 4,
   "id": "330b2cc4-609b-4168-8343-c5c098b05dff",
   "metadata": {},
   "outputs": [
    {
     "name": "stderr",
     "output_type": "stream",
     "text": [
      "WARNING:absl:You are saving your model as an HDF5 file via `model.save()` or `keras.saving.save_model(model)`. This file format is considered legacy. We recommend using instead the native Keras format, e.g. `model.save('my_model.keras')` or `keras.saving.save_model(model, 'my_model.keras')`. \n",
      "WARNING:absl:Compiled the loaded model, but the compiled metrics have yet to be built. `model.compile_metrics` will be empty until you train or evaluate the model.\n"
     ]
    },
    {
     "name": "stdout",
     "output_type": "stream",
     "text": [
      "\u001b[1m313/313\u001b[0m \u001b[32m━━━━━━━━━━━━━━━━━━━━\u001b[0m\u001b[37m\u001b[0m \u001b[1m1s\u001b[0m 2ms/step - accuracy: 0.9718 - loss: 0.0930    \n",
      "Loaded model test accuracy: 0.9761999845504761\n"
     ]
    }
   ],
   "source": [
    "# Save the model\n",
    "model.save(\"my_model.h5\")\n",
    "\n",
    "# Load the model back\n",
    "loaded_model = tf.keras.models.load_model(\"my_model.h5\")\n",
    "\n",
    "# Evaluate the loaded model\n",
    "test_loss, test_acc = loaded_model.evaluate(x_test, y_test)\n",
    "print(f'Loaded model test accuracy: {test_acc}')\n"
   ]
  },
  {
   "cell_type": "markdown",
   "id": "fcbeeee8-1630-4dcd-b785-466619c73172",
   "metadata": {},
   "source": [
    "## Above model on different dataset\n",
    "Lets use above model on diferent dataset, that is NOT vision type."
   ]
  },
  {
   "cell_type": "code",
   "execution_count": 8,
   "id": "6fbd6946-849d-43cc-8118-ac9d4b0a3e15",
   "metadata": {},
   "outputs": [
    {
     "name": "stdout",
     "output_type": "stream",
     "text": [
      "First 5 training data:\n",
      " [[4.6 3.6 1.  0.2]\n",
      " [5.7 4.4 1.5 0.4]\n",
      " [6.7 3.1 4.4 1.4]\n",
      " [4.8 3.4 1.6 0.2]\n",
      " [4.4 3.2 1.3 0.2]]\n",
      "(After standardizing)First 5 training data:\n",
      " [[-1.47393679  1.20365799 -1.56253475 -1.31260282]\n",
      " [-0.13307079  2.99237573 -1.27600637 -1.04563275]\n",
      " [ 1.08589829  0.08570939  0.38585821  0.28921757]\n",
      " [-1.23014297  0.75647855 -1.2187007  -1.31260282]\n",
      " [-1.7177306   0.30929911 -1.39061772 -1.31260282]]\n",
      "First 6 training labels y_train[:6]:\n",
      " [0 0 1 0 0 2]\n",
      "First 6 onehot training labels y_train_onehot[:6]:\n",
      " [[1. 0. 0.]\n",
      " [1. 0. 0.]\n",
      " [0. 1. 0.]\n",
      " [1. 0. 0.]\n",
      " [1. 0. 0.]\n",
      " [0. 0. 1.]]\n"
     ]
    },
    {
     "data": {
      "text/plain": [
       "'\\n# Step 2: Create a simple sequential model\\nmodel = models.Sequential([\\n    layers.Dense(64, activation=\\'relu\\', input_shape=(4,)),  # Input layer (4 features)\\n    layers.Dense(3, activation=\\'softmax\\')  # Output layer (3 classes)\\n])\\n\\n# Step 3: Compile the model\\nmodel.compile(optimizer=\\'adam\\', loss=\\'categorical_crossentropy\\', metrics=[\\'accuracy\\'])\\n\\n# Step 4: Train the model\\nmodel.fit(X_train, y_train_onehot, epochs=10, batch_size=8, validation_split=0.1)  # Train for 10 epochs\\n\\n# Step 5: Evaluate the model\\ntest_loss, test_acc = model.evaluate(X_test, y_test_onehot)\\nprint(f\"Test accuracy: {test_acc:.2f}\")\\n\\n# Step 6: Make predictions\\npredictions = model.predict(X_test[:5])  # Predict on the first 5 samples of the test set\\nprint(\"Predictions for the first 5 test samples:\")\\nprint(predictions.argmax(axis=1))  # Print predicted class labels\\nprint(\"True labels:\", y_test[:5])  # Print true class labels\\n'"
      ]
     },
     "execution_count": 8,
     "metadata": {},
     "output_type": "execute_result"
    }
   ],
   "source": [
    "import tensorflow as tf\n",
    "from tensorflow.keras import layers, models\n",
    "from sklearn.datasets import load_iris\n",
    "from sklearn.model_selection import train_test_split\n",
    "from sklearn.preprocessing import StandardScaler\n",
    "from tensorflow.keras.utils import to_categorical\n",
    "\n",
    "# Step 1: Load and preprocess the Iris dataset\n",
    "iris = load_iris()\n",
    "X = iris.data  # Features: Sepal length, Sepal width, Petal length, Petal width\n",
    "y = iris.target  # Target: Species (0, 1, 2)\n",
    "\n",
    "# Split into training and testing sets\n",
    "X_train, X_test, y_train, y_test = train_test_split(X, y, test_size=0.2, random_state=42)\n",
    "\n",
    "print(f\"First 5 training data:\\n {X_train[:5]}\")\n",
    "\n",
    "# Standardize the features\n",
    "scaler = StandardScaler()\n",
    "X_train = scaler.fit_transform(X_train)\n",
    "X_test = scaler.transform(X_test)\n",
    "print(f\"(After standardizing)First 5 training data:\\n {X_train[:5]}\")\n",
    "\n",
    "# Convert target labels to one-hot encoding (optional for sparse_categorical_crossentropy)\n",
    "y_train_onehot = to_categorical(y_train, num_classes=3)\n",
    "y_test_onehot = to_categorical(y_test, num_classes=3)\n",
    "print(f\"First 6 training labels y_train[:6]:\\n {y_train[:6]}\")\n",
    "print(f\"First 6 onehot training labels y_train_onehot[:6]:\\n {y_train_onehot[:6]}\")\n",
    "\n",
    "# Step 2: Create a simple sequential model\n",
    "model = models.Sequential([\n",
    "    layers.Dense(64, activation='relu', input_shape=(4,)),  # Input layer (4 features)\n",
    "    layers.Dense(3, activation='softmax')  # Output layer (3 classes)\n",
    "])\n",
    "\n",
    "# Step 3: Compile the model\n",
    "model.compile(optimizer='adam', loss='categorical_crossentropy', metrics=['accuracy'])\n",
    "\n",
    "# Step 4: Train the model\n",
    "model.fit(X_train, y_train_onehot, epochs=10, batch_size=8, validation_split=0.1)  # Train for 10 epochs\n",
    "\n",
    "# Step 5: Evaluate the model\n",
    "test_loss, test_acc = model.evaluate(X_test, y_test_onehot)\n",
    "print(f\"Test accuracy: {test_acc:.2f}\")\n",
    "\n",
    "# Step 6: Make predictions\n",
    "predictions = model.predict(X_test[:5])  # Predict on the first 5 samples of the test set\n",
    "print(\"Predictions for the first 5 test samples:\")\n",
    "print(predictions.argmax(axis=1))  # Print predicted class labels\n",
    "print(\"True labels:\", y_test[:5])  # Print true class labels\n"
   ]
  },
  {
   "cell_type": "code",
   "execution_count": null,
   "id": "5fb559e6-9ed4-4b44-a321-754cab04573c",
   "metadata": {},
   "outputs": [],
   "source": []
  }
 ],
 "metadata": {
  "kernelspec": {
   "display_name": "Python 3 (ipykernel)",
   "language": "python",
   "name": "python3"
  },
  "language_info": {
   "codemirror_mode": {
    "name": "ipython",
    "version": 3
   },
   "file_extension": ".py",
   "mimetype": "text/x-python",
   "name": "python",
   "nbconvert_exporter": "python",
   "pygments_lexer": "ipython3",
   "version": "3.11.2"
  }
 },
 "nbformat": 4,
 "nbformat_minor": 5
}
