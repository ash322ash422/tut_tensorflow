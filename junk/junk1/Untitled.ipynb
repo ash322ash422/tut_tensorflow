{
 "cells": [
  {
   "cell_type": "code",
   "execution_count": 2,
   "id": "e29c1d81-1495-432e-9d09-51a2ea4cb809",
   "metadata": {},
   "outputs": [
    {
     "ename": "NameError",
     "evalue": "name 'kkkkljijl' is not defined",
     "output_type": "error",
     "traceback": [
      "\u001b[1;31m---------------------------------------------------------------------------\u001b[0m",
      "\u001b[1;31mNameError\u001b[0m                                 Traceback (most recent call last)",
      "Cell \u001b[1;32mIn[2], line 1\u001b[0m\n\u001b[1;32m----> 1\u001b[0m \u001b[43mkkkkljijl\u001b[49m\n",
      "\u001b[1;31mNameError\u001b[0m: name 'kkkkljijl' is not defined"
     ]
    }
   ],
   "source": [
    "kkkkljijl"
   ]
  },
  {
   "cell_type": "code",
   "execution_count": 4,
   "id": "0b533b3b-4c53-4f13-9fd6-01f242729915",
   "metadata": {},
   "outputs": [
    {
     "name": "stdout",
     "output_type": "stream",
     "text": [
      "1 Hellooooooooooooooo world\n"
     ]
    }
   ],
   "source": [
    "print(\"1 Hellooooooooooooooo world\")"
   ]
  },
  {
   "cell_type": "code",
   "execution_count": 5,
   "id": "7da4b7a2-ee58-4de3-9cb8-e4c70b9890c4",
   "metadata": {},
   "outputs": [
    {
     "name": "stdout",
     "output_type": "stream",
     "text": [
      "2 Hello World. Its raining today\n"
     ]
    }
   ],
   "source": [
    "print(\"2 Hello World. Its raining today\")"
   ]
  },
  {
   "cell_type": "code",
   "execution_count": 6,
   "id": "2f0324c8-1fc4-4231-aabf-feaf20724463",
   "metadata": {},
   "outputs": [
    {
     "name": "stdout",
     "output_type": "stream",
     "text": [
      "3 Hello world. Its raining today\n"
     ]
    }
   ],
   "source": [
    "print(\"3 Hello world.\", \"Its raining today\")"
   ]
  },
  {
   "cell_type": "code",
   "execution_count": 7,
   "id": "cad527b2-f3c0-452b-896e-b49ae304f4d6",
   "metadata": {},
   "outputs": [
    {
     "name": "stdout",
     "output_type": "stream",
     "text": [
      "4 Hello world. Today its raining It is going to be humid today. Good luck\n"
     ]
    }
   ],
   "source": [
    "print(\"4 Hello world.\", \"Today its raining\", \"It is going to be humid today.\", \"Good luck\")"
   ]
  },
  {
   "cell_type": "code",
   "execution_count": 10,
   "id": "054a7446-56d9-47b4-a5ec-cc455774d788",
   "metadata": {},
   "outputs": [
    {
     "name": "stdout",
     "output_type": "stream",
     "text": [
      "\n",
      "In the vastness of space, you define\n",
      "A beauty that's beyond compare\n",
      "A sight that makes us all stop \n",
      "Guiding us through life, as we try\n",
      "To find our way, to reach our dreams\n",
      "\n"
     ]
    }
   ],
   "source": [
    "print(\"\"\"\n",
    "In the vastness of space, you define\n",
    "A beauty that's beyond compare\n",
    "A sight that makes us all stop \n",
    "Guiding us through life, as we try\n",
    "To find our way, to reach our dreams\n",
    "\"\"\")"
   ]
  },
  {
   "cell_type": "code",
   "execution_count": 11,
   "id": "476335a2-20cb-43d9-bb24-b7d5a1fb5695",
   "metadata": {},
   "outputs": [
    {
     "name": "stdout",
     "output_type": "stream",
     "text": [
      "x\n"
     ]
    }
   ],
   "source": [
    "print(\"x\")"
   ]
  },
  {
   "cell_type": "code",
   "execution_count": 20,
   "id": "ff6baf75-a43f-4b76-a82d-df5a0ab0b024",
   "metadata": {},
   "outputs": [
    {
     "ename": "SyntaxError",
     "evalue": "invalid syntax (1187623545.py, line 1)",
     "output_type": "error",
     "traceback": [
      "\u001b[1;36m  Cell \u001b[1;32mIn[20], line 1\u001b[1;36m\u001b[0m\n\u001b[1;33m    x = 45  this is how you define var fhgdjkfsdkfhksdfk\u001b[0m\n\u001b[1;37m            ^\u001b[0m\n\u001b[1;31mSyntaxError\u001b[0m\u001b[1;31m:\u001b[0m invalid syntax\n"
     ]
    }
   ],
   "source": [
    "x = 45 # this is how you define var \n",
    "print(x) # here x is a variable"
   ]
  },
  {
   "cell_type": "code",
   "execution_count": 16,
   "id": "54a1a9a6-56ea-4ca2-8b49-95783cdc562c",
   "metadata": {},
   "outputs": [
    {
     "name": "stdout",
     "output_type": "stream",
     "text": [
      "34\n",
      "<class 'int'>\n"
     ]
    }
   ],
   "source": [
    "# variable int, string, float, bool, complex,\n",
    "x = 34          # integer\n",
    "print(x)\n",
    "print(type(x))"
   ]
  },
  {
   "cell_type": "code",
   "execution_count": 21,
   "id": "437a5ea9-b320-4e90-b3c0-5dae1e4808a4",
   "metadata": {},
   "outputs": [
    {
     "name": "stdout",
     "output_type": "stream",
     "text": [
      "3.14\n",
      "<class 'float'>\n"
     ]
    }
   ],
   "source": [
    "y = 3.14     # float\n",
    "print(y)\n",
    "print(type(y))"
   ]
  },
  {
   "cell_type": "code",
   "execution_count": 23,
   "id": "12b50ab5-7683-47ab-9568-f5b24ccad863",
   "metadata": {},
   "outputs": [
    {
     "name": "stdout",
     "output_type": "stream",
     "text": [
      "Alice\n",
      "<class 'str'>\n"
     ]
    }
   ],
   "source": [
    "name = \"Alice\"   # string\n",
    "print(name)\n",
    "print(type(name))"
   ]
  },
  {
   "cell_type": "code",
   "execution_count": 29,
   "id": "59d11a58-1b07-49b0-97f0-171c8747e342",
   "metadata": {},
   "outputs": [
    {
     "name": "stdout",
     "output_type": "stream",
     "text": [
      "23\n",
      "<class 'str'>\n",
      "23\n",
      "<class 'int'>\n"
     ]
    }
   ],
   "source": [
    "a = \"23\"\n",
    "print(a)\n",
    "print(type(a))\n",
    "\n",
    "b = int(a)\n",
    "print(b)\n",
    "print(type(b))"
   ]
  },
  {
   "cell_type": "code",
   "execution_count": 32,
   "id": "da85042f-e2d7-4608-85f5-0ffee2d8a43b",
   "metadata": {},
   "outputs": [
    {
     "name": "stdout",
     "output_type": "stream",
     "text": [
      "your score is more than 10\n",
      "Congratulation\n"
     ]
    }
   ],
   "source": [
    "score = 34\n",
    "\n",
    "if score > 10:\n",
    "    print(\"your score is more than 10\")\n",
    "    print(\"Congratulation\")\n",
    "else:\n",
    "    print(\"Your score is not more than 10\")\n",
    "    print(\"Thats bad\")"
   ]
  },
  {
   "cell_type": "code",
   "execution_count": 33,
   "id": "71d7aff8-60ef-4bc8-b446-81163d9aa07b",
   "metadata": {},
   "outputs": [
    {
     "name": "stdout",
     "output_type": "stream",
     "text": [
      "Hello world\n",
      "Hello world\n",
      "Hello world\n"
     ]
    }
   ],
   "source": [
    "print(\"Hello world\")\n",
    "print(\"Hello world\")\n",
    "print(\"Hello world\")\n",
    "\n"
   ]
  },
  {
   "cell_type": "code",
   "execution_count": 38,
   "id": "abfd10e1-eda8-4048-9c6c-65780c3df3dc",
   "metadata": {},
   "outputs": [
    {
     "name": "stdout",
     "output_type": "stream",
     "text": [
      "Hello world\n",
      "..rahim\n",
      "Hello world\n",
      "..rahim\n",
      "Hello world\n",
      "..rahim\n",
      "Yea ...I am out of for loop\n"
     ]
    }
   ],
   "source": [
    "for i in range(3):\n",
    "    print(\"Hello world\")\n",
    "    print(\"..rahim\")\n",
    "    \n",
    "print(\"Yea ...I am out of for loop\")"
   ]
  },
  {
   "cell_type": "code",
   "execution_count": 40,
   "id": "b3e6732d-5f32-4bf9-88f9-3787d9e4b8a1",
   "metadata": {},
   "outputs": [
    {
     "name": "stdout",
     "output_type": "stream",
     "text": [
      "Hello world\n",
      "    ..rahim\n",
      "    \n",
      "Hello world\n",
      "    ..rahim\n",
      "    \n",
      "Hello world\n",
      "    ..rahim\n",
      "    \n",
      "Yea ...I am out of for loop\n"
     ]
    }
   ],
   "source": [
    "for i in range(3):\n",
    "    print(\"\"\"Hello world\n",
    "    ..rahim\n",
    "    \"\"\")\n",
    "    \n",
    "print(\"Yea ...I am out of for loop\")"
   ]
  },
  {
   "cell_type": "code",
   "execution_count": 44,
   "id": "b93aafac-5de0-40f5-ab80-14ae52719fed",
   "metadata": {},
   "outputs": [
    {
     "name": "stdout",
     "output_type": "stream",
     "text": [
      "['banana', 'kiwi', 'apple']\n",
      "(3, 4, 6.5)\n",
      "{'banana': 3, 'kiwi': 4, 'apple': 6}\n"
     ]
    }
   ],
   "source": [
    "# store data: list, tuple, dictionary, \n",
    "\n",
    "fruits = [\"banana\", \"kiwi\", \"apple\"] # this list contains 3 elements\n",
    "print(fruits)\n",
    "\n",
    "prices = (3, 4, 6.5) # this tuple contains 3 elements\n",
    "print(prices)\n",
    "\n",
    "fruit_data = {\"banana\": 3,\n",
    "              \"kiwi\": 4,\n",
    "              \"apple\": 6\n",
    "}\n",
    "print(fruit_data)"
   ]
  },
  {
   "cell_type": "code",
   "execution_count": null,
   "id": "19d8c9ee-4617-43a7-870d-6e2f2c424ce0",
   "metadata": {},
   "outputs": [],
   "source": []
  }
 ],
 "metadata": {
  "kernelspec": {
   "display_name": "Python 3 (ipykernel)",
   "language": "python",
   "name": "python3"
  },
  "language_info": {
   "codemirror_mode": {
    "name": "ipython",
    "version": 3
   },
   "file_extension": ".py",
   "mimetype": "text/x-python",
   "name": "python",
   "nbconvert_exporter": "python",
   "pygments_lexer": "ipython3",
   "version": "3.11.2"
  }
 },
 "nbformat": 4,
 "nbformat_minor": 5
}
