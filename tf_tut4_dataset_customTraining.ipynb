{
 "cells": [
  {
   "cell_type": "markdown",
   "id": "d5e2a6f1-7f04-4769-8a7a-6eafa9923b2d",
   "metadata": {},
   "source": [
    "## TensorFlow Datasets (tf.data)\n",
    "tf.data provides utilities to efficiently load and preprocess datasets, especially when working with large datasets.\n",
    "\n",
    "Example (Creating a Dataset using tf.data):"
   ]
  },
  {
   "cell_type": "code",
   "execution_count": null,
   "id": "007cd531-8d1e-4920-850a-754f477fed6b",
   "metadata": {},
   "outputs": [],
   "source": [
    "import tensorflow as tf\n",
    "\n",
    "# Create a simple dataset of numbers\n",
    "dataset = tf.data.Dataset.from_tensor_slices([1, 2, 3, 4, 5])\n",
    "\n",
    "# Map a function to each element in the dataset\n",
    "dataset = dataset.map(lambda x: x * 2)\n",
    "\n",
    "# Print out each element in the dataset\n",
    "for element in dataset:\n",
    "    print(element.numpy())\n"
   ]
  },
  {
   "cell_type": "markdown",
   "id": "18bbf611-6f5c-4ee4-94e8-f9ddd2510adb",
   "metadata": {},
   "source": [
    "## Custom Training Loop\n",
    "For more complex training routines (e.g., for reinforcement learning or certain custom optimizers), you can write your own training loop using GradientTape.\n",
    "\n",
    "Example (Custom Training Loop):"
   ]
  },
  {
   "cell_type": "code",
   "execution_count": 4,
   "id": "107f7bcb-1aad-4b2d-9c86-4e245a7b400e",
   "metadata": {},
   "outputs": [
    {
     "name": "stderr",
     "output_type": "stream",
     "text": [
      "c:\\Users\\hi\\Desktop\\projects\\python_projects\\ai_projects\\GenAI_GAN1\\.venv\\Lib\\site-packages\\keras\\src\\layers\\core\\dense.py:87: UserWarning: Do not pass an `input_shape`/`input_dim` argument to a layer. When using Sequential models, prefer using an `Input(shape)` object as the first layer in the model instead.\n",
      "  super().__init__(activity_regularizer=activity_regularizer, **kwargs)\n"
     ]
    },
    {
     "name": "stdout",
     "output_type": "stream",
     "text": [
      "Step 0: Loss = 1.5951018333435059\n",
      "Step 10: Loss = 6.633349418640137\n",
      "Step 20: Loss = 6.609179496765137\n",
      "Step 30: Loss = 3.948230743408203\n",
      "Step 40: Loss = 5.828388214111328\n",
      "Step 50: Loss = 6.446093559265137\n",
      "Step 60: Loss = 3.0485167503356934\n",
      "Step 70: Loss = 9.481471061706543\n",
      "Step 80: Loss = 4.795212745666504\n",
      "Step 90: Loss = 7.722182273864746\n"
     ]
    }
   ],
   "source": [
    "import tensorflow as tf\n",
    "\n",
    "# Define a simple model\n",
    "model = tf.keras.Sequential([\n",
    "    tf.keras.layers.Dense(1, input_shape=(1,))\n",
    "])\n",
    "\n",
    "# Define a loss function and optimizer\n",
    "loss_fn = tf.keras.losses.MeanSquaredError()\n",
    "optimizer = tf.keras.optimizers.Adam()\n",
    "\n",
    "# Custom training loop\n",
    "for step in range(100):\n",
    "    with tf.GradientTape() as tape:\n",
    "        # Forward pass\n",
    "        x = tf.random.normal([10, 1])  # Random input data\n",
    "        y = 2 * x + 1  # Ground truth labels\n",
    "        y_pred = model(x)\n",
    "        \n",
    "        # Compute loss\n",
    "        loss = loss_fn(y, y_pred)\n",
    "    \n",
    "    # Compute gradients and apply them\n",
    "    gradients = tape.gradient(loss, model.trainable_variables)\n",
    "    optimizer.apply_gradients(zip(gradients, model.trainable_variables))\n",
    "\n",
    "    if step % 10 == 0:\n",
    "        print(f\"Step {step}: Loss = {loss.numpy()}\")\n"
   ]
  },
  {
   "cell_type": "code",
   "execution_count": null,
   "id": "f5adab44-83fc-4648-a65e-03f5b03d2c19",
   "metadata": {},
   "outputs": [],
   "source": []
  }
 ],
 "metadata": {
  "kernelspec": {
   "display_name": "Python 3 (ipykernel)",
   "language": "python",
   "name": "python3"
  },
  "language_info": {
   "codemirror_mode": {
    "name": "ipython",
    "version": 3
   },
   "file_extension": ".py",
   "mimetype": "text/x-python",
   "name": "python",
   "nbconvert_exporter": "python",
   "pygments_lexer": "ipython3",
   "version": "3.11.2"
  }
 },
 "nbformat": 4,
 "nbformat_minor": 5
}
