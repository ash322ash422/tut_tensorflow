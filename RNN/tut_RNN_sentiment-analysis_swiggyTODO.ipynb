{
 "cells": [
  {
   "cell_type": "markdown",
   "id": "76c8e7d3-ac53-45fe-a2a4-3018367e302c",
   "metadata": {},
   "source": [
    "# RNN for sentiment analysis\n",
    "RNN can use context from sequential data. This can be used to compute sentiment of sentnce. In this article we will be apply RNNs to analyze the sentiment of customer reviews from Swiggy food delivery platform. The goal is to classify reviews as positive or negative for providing insights into customer experiences."
   ]
  },
  {
   "cell_type": "code",
   "execution_count": 10,
   "id": "d7d0621e-7f5e-456a-86a0-d8d90d7c4106",
   "metadata": {},
   "outputs": [],
   "source": [
    "import pandas as pd\n",
    "import numpy as np\n",
    "import re  \n",
    "from sklearn.model_selection import train_test_split\n",
    "import tensorflow as tf\n",
    "from tensorflow.keras.preprocessing.text import Tokenizer\n",
    "from tensorflow.keras.preprocessing.sequence import pad_sequences\n",
    "from tensorflow.keras.models import Sequential\n",
    "from tensorflow.keras.layers import SimpleRNN, Dense, Embedding"
   ]
  },
  {
   "cell_type": "code",
   "execution_count": 19,
   "id": "fc37984f-8f1a-4d8d-a852-23e48d79e606",
   "metadata": {},
   "outputs": [
    {
     "name": "stdout",
     "output_type": "stream",
     "text": [
      "Columns in the dataset:\n",
      "['ID', 'Area', 'City', 'Restaurant Price', 'Avg Rating', 'Total Rating', 'Food Item', 'Food Type', 'Delivery Time', 'Review']\n",
      "####################\n",
      "   ID               Area       City  Restaurant Price  Avg Rating  \\\n",
      "0   1             Suburb  Ahmedabad               600         4.2   \n",
      "1   2  Business District       Pune               200         4.7   \n",
      "2   3             Suburb  Bangalore               600         4.7   \n",
      "3   4  Business District     Mumbai               900         4.0   \n",
      "4   5          Tech Park     Mumbai               200         4.7   \n",
      "\n",
      "   Total Rating        Food Item       Food Type Delivery Time  \\\n",
      "0          6198            Sushi       Fast Food     30-40 min   \n",
      "1          4865  Pepperoni Pizza  Non-Vegetarian     50-60 min   \n",
      "2          2095          Waffles       Fast Food     50-60 min   \n",
      "3          6639            Sushi      Vegetarian     50-60 min   \n",
      "4          6926     Spring Rolls     Gluten-Free     20-30 min   \n",
      "\n",
      "                             Review  \n",
      "0  Good, but nothing extraordinary.  \n",
      "1  Good, but nothing extraordinary.  \n",
      "2          Late delivery ruined it.  \n",
      "3    Best meal I've had in a while!  \n",
      "4              Mediocre experience.  \n"
     ]
    }
   ],
   "source": [
    "df = pd.read_csv('swiggy.csv')\n",
    "print(\"Columns in the dataset:\")\n",
    "print(df.columns.tolist())\n",
    "print(\"####################\")\n",
    "print(df.head(5))"
   ]
  },
  {
   "cell_type": "code",
   "execution_count": 27,
   "id": "5b0d2fd2-38ca-46e1-8409-34b079b5bb73",
   "metadata": {},
   "outputs": [
    {
     "name": "stdout",
     "output_type": "stream",
     "text": [
      "   ID               Area       City  Restaurant Price  Avg Rating  \\\n",
      "0   1             Suburb  Ahmedabad               600         4.2   \n",
      "1   2  Business District       Pune               200         4.7   \n",
      "2   3             Suburb  Bangalore               600         4.7   \n",
      "3   4  Business District     Mumbai               900         4.0   \n",
      "4   5          Tech Park     Mumbai               200         4.7   \n",
      "\n",
      "   Total Rating        Food Item       Food Type Delivery Time  \\\n",
      "0          6198            Sushi       Fast Food     30-40 min   \n",
      "1          4865  Pepperoni Pizza  Non-Vegetarian     50-60 min   \n",
      "2          2095          Waffles       Fast Food     50-60 min   \n",
      "3          6639            Sushi      Vegetarian     50-60 min   \n",
      "4          6926     Spring Rolls     Gluten-Free     20-30 min   \n",
      "\n",
      "                           Review  sentiment  \n",
      "0  good but nothing extraordinary          1  \n",
      "1  good but nothing extraordinary          1  \n",
      "2         late delivery ruined it          1  \n",
      "3    best meal ive had in a while          1  \n",
      "4             mediocre experience          1  \n"
     ]
    }
   ],
   "source": [
    "df[\"Review\"] = df[\"Review\"].str.lower()\n",
    "df[\"Review\"] = df[\"Review\"].replace(r'[^a-z0-9\\s]', '', regex=True)\n",
    "\n",
    "df['sentiment'] = df['Avg Rating'].apply(lambda x: 1 if x > 3.5 else 0) # Uses Avg Rating to generate binary labels (positive if rating >3.5)\n",
    "df = df.dropna() \n",
    "\n",
    "print(df.head(5))"
   ]
  },
  {
   "cell_type": "code",
   "execution_count": 28,
   "id": "f059a258-3d92-42d3-bc3a-9b67be863297",
   "metadata": {},
   "outputs": [],
   "source": [
    "max_features = 5000  \n",
    "max_length = 200    \n",
    "\n",
    "# Tokenizer: Converts words into integer sequences.\n",
    "tokenizer = Tokenizer(num_words=max_features) \n",
    "tokenizer.fit_on_texts(df[\"Review\"])\n",
    "\n",
    "# Padding: Ensures all input sequences have the same length (max_length).\n",
    "X = pad_sequences(tokenizer.texts_to_sequences(df[\"Review\"]), maxlen=max_length)\n",
    "\n",
    "y = df['sentiment'].values  "
   ]
  },
  {
   "cell_type": "code",
   "execution_count": 29,
   "id": "7d5d991e-c299-438f-aab5-2abada419fd2",
   "metadata": {},
   "outputs": [],
   "source": [
    "X_train, X_test, y_train, y_test = train_test_split(\n",
    "    X, y, test_size=0.2, random_state=42, stratify=y\n",
    ")\n",
    "X_train, X_val, y_train, y_val = train_test_split(\n",
    "    X_train, y_train, test_size=0.1, random_state=42, stratify=y_train\n",
    ")"
   ]
  },
  {
   "cell_type": "code",
   "execution_count": 30,
   "id": "c9fba189-020f-4786-a1d8-1a823a6239af",
   "metadata": {},
   "outputs": [
    {
     "name": "stderr",
     "output_type": "stream",
     "text": [
      "c:\\Users\\hi\\Desktop\\projects\\python_projects\\tutorial\\tut_tensorflow\\.venv\\Lib\\site-packages\\keras\\src\\layers\\core\\embedding.py:90: UserWarning: Argument `input_length` is deprecated. Just remove it.\n",
      "  warnings.warn(\n"
     ]
    }
   ],
   "source": [
    "# Embedding Layer: Converts integer sequences into dense vectors (16 dimensions).\n",
    "# RNN Layer: Processes sequence data with 64 units and tanh activation.\n",
    "# Output Layer: Predicts sentiment probability using sigmoid activation.\n",
    "\n",
    "model = Sequential([\n",
    "    Embedding(input_dim=max_features, output_dim=16, input_length=max_length),\n",
    "    SimpleRNN(64, activation='tanh', return_sequences=False),                   \n",
    "    Dense(1, activation='sigmoid')                                          \n",
    "])\n",
    "\n",
    "model.compile(\n",
    "    loss='binary_crossentropy',\n",
    "    optimizer='adam',\n",
    "    metrics=['accuracy']\n",
    ")\n"
   ]
  },
  {
   "cell_type": "code",
   "execution_count": 31,
   "id": "0a8b225e-b80c-43ca-9dd1-d53d56864a78",
   "metadata": {},
   "outputs": [
    {
     "name": "stdout",
     "output_type": "stream",
     "text": [
      "Epoch 1/5\n",
      "\u001b[1m180/180\u001b[0m \u001b[32m━━━━━━━━━━━━━━━━━━━━\u001b[0m\u001b[37m\u001b[0m \u001b[1m7s\u001b[0m 26ms/step - accuracy: 0.6807 - loss: 0.6185 - val_accuracy: 0.7156 - val_loss: 0.5981\n",
      "Epoch 2/5\n",
      "\u001b[1m180/180\u001b[0m \u001b[32m━━━━━━━━━━━━━━━━━━━━\u001b[0m\u001b[37m\u001b[0m \u001b[1m5s\u001b[0m 24ms/step - accuracy: 0.7204 - loss: 0.5934 - val_accuracy: 0.7156 - val_loss: 0.5961\n",
      "Epoch 3/5\n",
      "\u001b[1m180/180\u001b[0m \u001b[32m━━━━━━━━━━━━━━━━━━━━\u001b[0m\u001b[37m\u001b[0m \u001b[1m4s\u001b[0m 23ms/step - accuracy: 0.7207 - loss: 0.5935 - val_accuracy: 0.7156 - val_loss: 0.5979\n",
      "Epoch 4/5\n",
      "\u001b[1m180/180\u001b[0m \u001b[32m━━━━━━━━━━━━━━━━━━━━\u001b[0m\u001b[37m\u001b[0m \u001b[1m4s\u001b[0m 23ms/step - accuracy: 0.7122 - loss: 0.6018 - val_accuracy: 0.7156 - val_loss: 0.5976\n",
      "Epoch 5/5\n",
      "\u001b[1m180/180\u001b[0m \u001b[32m━━━━━━━━━━━━━━━━━━━━\u001b[0m\u001b[37m\u001b[0m \u001b[1m4s\u001b[0m 23ms/step - accuracy: 0.7184 - loss: 0.5926 - val_accuracy: 0.7156 - val_loss: 0.5961\n",
      "\n",
      "Time per epoch (in seconds): [7.168249607086182, 4.835086822509766, 4.196996450424194, 4.187966585159302, 4.166996717453003]\n",
      "Total training time: 0.41 minutes\n"
     ]
    }
   ],
   "source": [
    "EPOCHS = 5\n",
    "import time\n",
    "class TimeHistory(tf.keras.callbacks.Callback):\n",
    "    def on_train_begin(self, logs=None):\n",
    "        self.times = []\n",
    "    \n",
    "    def on_epoch_begin(self, epoch, logs=None):\n",
    "        self.epoch_time_start = time.time()\n",
    "    \n",
    "    def on_epoch_end(self, epoch, logs=None):\n",
    "        self.times.append(time.time() - self.epoch_time_start)\n",
    "\n",
    "# Create callback\n",
    "time_callback = TimeHistory()\n",
    "\n",
    "\n",
    "history = model.fit(\n",
    "    X_train, y_train,\n",
    "    epochs=EPOCHS,\n",
    "    batch_size=32,\n",
    "    validation_data=(X_val, y_val),\n",
    "    verbose=1,\n",
    "    callbacks=[time_callback]\n",
    ")\n",
    "\n",
    "# After training, you can see time per epoch\n",
    "print(\"\\nTime per epoch (in seconds):\", time_callback.times)\n",
    "\n",
    "# Total training time in minutes\n",
    "total_time_min = sum(time_callback.times) / 60\n",
    "print(f\"Total training time: {total_time_min:.2f} minutes\")\n"
   ]
  },
  {
   "cell_type": "code",
   "execution_count": 42,
   "id": "f10cfe3a-8872-4d5b-ac96-b964b8418bb9",
   "metadata": {},
   "outputs": [
    {
     "name": "stdout",
     "output_type": "stream",
     "text": [
      "\u001b[1m50/50\u001b[0m \u001b[32m━━━━━━━━━━━━━━━━━━━━\u001b[0m\u001b[37m\u001b[0m \u001b[1m1s\u001b[0m 10ms/step - accuracy: 0.7027 - loss: 0.6091\n",
      "Test accuracy: 0.72\n",
      "\u001b[1m50/50\u001b[0m \u001b[32m━━━━━━━━━━━━━━━━━━━━\u001b[0m\u001b[37m\u001b[0m \u001b[1m0s\u001b[0m 8ms/step \n",
      "[[ 455    0]\n",
      " [1145    0]]\n"
     ]
    }
   ],
   "source": [
    "score = model.evaluate(X_test, y_test)\n",
    "print(f\"Test accuracy: {score[1]:.2f}\")"
   ]
  },
  {
   "cell_type": "code",
   "execution_count": 39,
   "id": "fa524661-dfcb-4e9e-a79c-34425602a398",
   "metadata": {},
   "outputs": [
    {
     "name": "stdout",
     "output_type": "stream",
     "text": [
      "[0.597517192363739, 0.715624988079071]\n"
     ]
    }
   ],
   "source": [
    "print(score)"
   ]
  },
  {
   "cell_type": "code",
   "execution_count": 36,
   "id": "03798a97-b4af-4275-a9ea-d143cebfef8b",
   "metadata": {},
   "outputs": [
    {
     "name": "stdout",
     "output_type": "stream",
     "text": [
      "Review: The food was not great\n",
      "\u001b[1m1/1\u001b[0m \u001b[32m━━━━━━━━━━━━━━━━━━━━\u001b[0m\u001b[37m\u001b[0m \u001b[1m0s\u001b[0m 141ms/step\n",
      "Sentiment: Positive (Probability: 0.71)\n"
     ]
    }
   ],
   "source": [
    "def predict_sentiment(review_text):\n",
    "    text = review_text.lower()\n",
    "    text = re.sub(r'[^a-z0-9\\s]', '', text)\n",
    "    \n",
    "    seq = tokenizer.texts_to_sequences([text])\n",
    "    padded = pad_sequences(seq, maxlen=max_length)\n",
    "\n",
    "    prediction = model.predict(padded)[0][0]\n",
    "    return f\"{'Positive' if prediction >= 0.5 else 'Negative'} (Probability: {prediction:.2f})\"\n",
    "    \n",
    "\n",
    "sample_review = \"The food was great.\"\n",
    "print(f\"Review: {sample_review}\")\n",
    "print(f\"Sentiment: {predict_sentiment(sample_review)}\")\n",
    "\n",
    "\n",
    "sample_review = \"The food was not great\"\n",
    "print(f\"Review: {sample_review}\")\n",
    "print(f\"Sentiment: {predict_sentiment(sample_review)}\")\n"
   ]
  },
  {
   "cell_type": "code",
   "execution_count": null,
   "id": "290385d8-3e4d-44aa-aade-e7ab830c1f62",
   "metadata": {},
   "outputs": [],
   "source": []
  }
 ],
 "metadata": {
  "kernelspec": {
   "display_name": "Python 3 (ipykernel)",
   "language": "python",
   "name": "python3"
  },
  "language_info": {
   "codemirror_mode": {
    "name": "ipython",
    "version": 3
   },
   "file_extension": ".py",
   "mimetype": "text/x-python",
   "name": "python",
   "nbconvert_exporter": "python",
   "pygments_lexer": "ipython3",
   "version": "3.11.2"
  }
 },
 "nbformat": 4,
 "nbformat_minor": 5
}
