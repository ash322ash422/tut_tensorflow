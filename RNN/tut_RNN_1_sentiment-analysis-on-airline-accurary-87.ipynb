{
 "cells": [
  {
   "cell_type": "markdown",
   "metadata": {},
   "source": [
    "# **Airline Sentiment Analysis (NLP with RNN)**"
   ]
  },
  {
   "cell_type": "markdown",
   "metadata": {},
   "source": [
    "**Airline Sentiment Analysi**s is a natural language processing (NLP) task that involves identifying the sentiment expressed in a piece of text about an airline. Recurrent Neural Networks (RNNs) are a type of neural network that are particularly well-suited to modeling sequences of data, such as natural language text. In this task, we can use RNNs to classify tweets about airlines into positive, negative or neutral categories.\n",
    "\n",
    "\n",
    "**Here are the steps in detail:**\n",
    "\n",
    "**Data Preprocessing:**\n",
    "We start by importing the necessary libraries for data cleaning and tokenization, such as NLTK and spaCy. We then load the airline tweets dataset and perform some initial data exploration. We can also remove any irrelevant or noisy data such as tweets that contain links or mentions of other Twitter users. After that, we perform text cleaning by removing stop words, special characters, and other noise from the text data. Finally, we tokenize the text data and convert it into numerical format for feature extraction.\n",
    "\n",
    "**Feature Extraction:**\n",
    "We can extract features from the tokenized text data using techniques such as Word2Vec or GloVe. These methods convert the text data into fixed-length vectors that can be fed into the RNN model. We can also use techniques such as tf-idf or bag-of-words to represent the text data.\n",
    "\n",
    "**Model Building:**\n",
    "We can build a Recurrent Neural Network (RNN) model to classify the sentiment of the airline tweets. We can use architectures such as Long Short-Term Memory (LSTM) or Gated Recurrent Units (GRU) to model the sequence of the text data. We can also use techniques such as dropout and batch normalization to regularize the model and prevent overfitting.\n",
    "\n",
    "**Model Training:**\n",
    "We can train the RNN model on the preprocessed and feature-extracted data. We can use techniques such as cross-validation to evaluate the model's performance. We can also use techniques such as early stopping to prevent the model from overfitting the training data.\n",
    "\n",
    "**Model Testing:**\n",
    "We can test the trained model on new, unseen data to evaluate its performance. We can use metrics such as accuracy, precision, recall, and F1 score to evaluate the model's performance on the test data. We can also use techniques such as confusion matrix and ROC curve to analyze the model's performance in more detail.\n",
    "\n",
    "In summary, building an airline sentiment analysis model using RNNs involves data preprocessing, feature extraction, model building, model training, and model testing. With the right techniques and tools, we can build a robust and accurate model that can classify the sentiment of airline tweets with high accuracy."
   ]
  },
  {
   "cell_type": "markdown",
   "metadata": {},
   "source": [
    "# **Import the Neccesary Libraries**"
   ]
  },
  {
   "cell_type": "code",
   "execution_count": 1,
   "metadata": {
    "_cell_guid": "b1076dfc-b9ad-4769-8c92-a6c4dae69d19",
    "_uuid": "8f2839f25d086af736a60e9eeb907d3b93b6e0e5"
   },
   "outputs": [],
   "source": [
    "import re\n",
    "import warnings\n",
    "import itertools\n",
    "import numpy as np \n",
    "import pandas as pd \n",
    "import seaborn as sns\n",
    "import tensorflow as tf\n",
    "import matplotlib.pyplot as plt\n",
    "from tensorflow.keras.preprocessing.text import Tokenizer\n",
    "from tensorflow.keras.preprocessing.sequence import pad_sequences\n",
    "from sklearn.model_selection import train_test_split\n",
    "from sklearn.metrics import confusion_matrix\n",
    "warnings.filterwarnings(\"ignore\", category=FutureWarning)"
   ]
  },
  {
   "cell_type": "markdown",
   "metadata": {},
   "source": [
    "# Reading the Dataset"
   ]
  },
  {
   "cell_type": "code",
   "execution_count": 2,
   "metadata": {
    "_cell_guid": "79c7e3d0-c299-4dcb-8224-4455121ee9b0",
    "_uuid": "d629ff2d2480ee46fbb7e2d37f6b5fab8052498a"
   },
   "outputs": [],
   "source": [
    "data = pd.read_csv(\"airline_tweets.csv\")\n",
    "df = data[[\"text\", \"airline_sentiment\"]].copy()  # Create a copy to avoid any issues\n",
    "df.loc[:, 'text'] = df['text'].map(lambda x: x.lstrip('@VirginAmerica@UnitedAir@Southwestairline@DeltaAir@USAirways@American').rstrip('@'))"
   ]
  },
  {
   "cell_type": "code",
   "execution_count": 3,
   "metadata": {},
   "outputs": [
    {
     "data": {
      "text/html": [
       "<div>\n",
       "<style scoped>\n",
       "    .dataframe tbody tr th:only-of-type {\n",
       "        vertical-align: middle;\n",
       "    }\n",
       "\n",
       "    .dataframe tbody tr th {\n",
       "        vertical-align: top;\n",
       "    }\n",
       "\n",
       "    .dataframe thead th {\n",
       "        text-align: right;\n",
       "    }\n",
       "</style>\n",
       "<table border=\"1\" class=\"dataframe\">\n",
       "  <thead>\n",
       "    <tr style=\"text-align: right;\">\n",
       "      <th></th>\n",
       "      <th>text</th>\n",
       "      <th>airline_sentiment</th>\n",
       "    </tr>\n",
       "  </thead>\n",
       "  <tbody>\n",
       "    <tr>\n",
       "      <th>0</th>\n",
       "      <td>What @dhepburn said.</td>\n",
       "      <td>neutral</td>\n",
       "    </tr>\n",
       "    <tr>\n",
       "      <th>1</th>\n",
       "      <td>plus you've added commercials to the experien...</td>\n",
       "      <td>positive</td>\n",
       "    </tr>\n",
       "    <tr>\n",
       "      <th>2</th>\n",
       "      <td>I didn't today... Must mean I need to take an...</td>\n",
       "      <td>neutral</td>\n",
       "    </tr>\n",
       "    <tr>\n",
       "      <th>3</th>\n",
       "      <td>it's really aggressive to blast obnoxious \"en...</td>\n",
       "      <td>negative</td>\n",
       "    </tr>\n",
       "    <tr>\n",
       "      <th>4</th>\n",
       "      <td>and it's a really big bad thing about it</td>\n",
       "      <td>negative</td>\n",
       "    </tr>\n",
       "    <tr>\n",
       "      <th>...</th>\n",
       "      <td>...</td>\n",
       "      <td>...</td>\n",
       "    </tr>\n",
       "    <tr>\n",
       "      <th>14635</th>\n",
       "      <td>thank you we got on a different flight to Chi...</td>\n",
       "      <td>positive</td>\n",
       "    </tr>\n",
       "    <tr>\n",
       "      <th>14636</th>\n",
       "      <td>leaving over 20 minutes Late Flight. No warni...</td>\n",
       "      <td>negative</td>\n",
       "    </tr>\n",
       "    <tr>\n",
       "      <th>14637</th>\n",
       "      <td>Please bring American Airlines to #BlackBerry10</td>\n",
       "      <td>neutral</td>\n",
       "    </tr>\n",
       "    <tr>\n",
       "      <th>14638</th>\n",
       "      <td>you have my money, you change my flight, and ...</td>\n",
       "      <td>negative</td>\n",
       "    </tr>\n",
       "    <tr>\n",
       "      <th>14639</th>\n",
       "      <td>we have 8 ppl so we need 2 know how many seat...</td>\n",
       "      <td>neutral</td>\n",
       "    </tr>\n",
       "  </tbody>\n",
       "</table>\n",
       "<p>14640 rows × 2 columns</p>\n",
       "</div>"
      ],
      "text/plain": [
       "                                                    text airline_sentiment\n",
       "0                                   What @dhepburn said.           neutral\n",
       "1       plus you've added commercials to the experien...          positive\n",
       "2       I didn't today... Must mean I need to take an...           neutral\n",
       "3       it's really aggressive to blast obnoxious \"en...          negative\n",
       "4               and it's a really big bad thing about it          negative\n",
       "...                                                  ...               ...\n",
       "14635   thank you we got on a different flight to Chi...          positive\n",
       "14636   leaving over 20 minutes Late Flight. No warni...          negative\n",
       "14637    Please bring American Airlines to #BlackBerry10           neutral\n",
       "14638   you have my money, you change my flight, and ...          negative\n",
       "14639   we have 8 ppl so we need 2 know how many seat...           neutral\n",
       "\n",
       "[14640 rows x 2 columns]"
      ]
     },
     "execution_count": 3,
     "metadata": {},
     "output_type": "execute_result"
    }
   ],
   "source": [
    "df"
   ]
  },
  {
   "cell_type": "code",
   "execution_count": 4,
   "metadata": {},
   "outputs": [
    {
     "data": {
      "image/png": "[encoded data removed]",
      "text/plain": [
       "<Figure size 1000x600 with 1 Axes>"
      ]
     },
     "metadata": {},
     "output_type": "display_data"
    }
   ],
   "source": [
    "# sns.countplot(data.airline);\n",
    "\n",
    "plt.figure(figsize=(10,6))\n",
    "sns.countplot(x='airline', data=data, palette='viridis')  # <-- added palette\n",
    "plt.title('Airline Distribution')\n",
    "plt.xticks(rotation=45)\n",
    "plt.show()"
   ]
  },
  {
   "cell_type": "code",
   "execution_count": 5,
   "metadata": {},
   "outputs": [
    {
     "name": "stderr",
     "output_type": "stream",
     "text": [
      "C:\\Users\\hi\\AppData\\Local\\Temp\\ipykernel_11336\\1447107429.py:2: SettingWithCopyWarning: \n",
      "A value is trying to be set on a copy of a slice from a DataFrame.\n",
      "Try using .loc[row_indexer,col_indexer] = value instead\n",
      "\n",
      "See the caveats in the documentation: https://pandas.pydata.org/pandas-docs/stable/user_guide/indexing.html#returning-a-view-versus-a-copy\n",
      "  df['text'] = df['text'].apply(lambda x: x.lower()) # To lower\n",
      "C:\\Users\\hi\\AppData\\Local\\Temp\\ipykernel_11336\\1447107429.py:3: SettingWithCopyWarning: \n",
      "A value is trying to be set on a copy of a slice from a DataFrame.\n",
      "Try using .loc[row_indexer,col_indexer] = value instead\n",
      "\n",
      "See the caveats in the documentation: https://pandas.pydata.org/pandas-docs/stable/user_guide/indexing.html#returning-a-view-versus-a-copy\n",
      "  df['text'] = df['text'].apply((lambda x: re.sub('[^a-zA-z0-9\\s]','',x))) # To keep numbers and strings only\n"
     ]
    }
   ],
   "source": [
    "df = df[df.airline_sentiment!=\"neutral\"] # To remove neutral responses\n",
    "df['text'] = df['text'].apply(lambda x: x.lower()) # To lower \n",
    "df['text'] = df['text'].apply((lambda x: re.sub('[^a-zA-z0-9\\s]','',x))) # To keep numbers and strings only"
   ]
  },
  {
   "cell_type": "code",
   "execution_count": 6,
   "metadata": {},
   "outputs": [
    {
     "data": {
      "text/html": [
       "<div>\n",
       "<style scoped>\n",
       "    .dataframe tbody tr th:only-of-type {\n",
       "        vertical-align: middle;\n",
       "    }\n",
       "\n",
       "    .dataframe tbody tr th {\n",
       "        vertical-align: top;\n",
       "    }\n",
       "\n",
       "    .dataframe thead th {\n",
       "        text-align: right;\n",
       "    }\n",
       "</style>\n",
       "<table border=\"1\" class=\"dataframe\">\n",
       "  <thead>\n",
       "    <tr style=\"text-align: right;\">\n",
       "      <th></th>\n",
       "      <th>text</th>\n",
       "      <th>airline_sentiment</th>\n",
       "    </tr>\n",
       "  </thead>\n",
       "  <tbody>\n",
       "    <tr>\n",
       "      <th>1</th>\n",
       "      <td>plus youve added commercials to the experienc...</td>\n",
       "      <td>positive</td>\n",
       "    </tr>\n",
       "    <tr>\n",
       "      <th>3</th>\n",
       "      <td>its really aggressive to blast obnoxious ente...</td>\n",
       "      <td>negative</td>\n",
       "    </tr>\n",
       "    <tr>\n",
       "      <th>4</th>\n",
       "      <td>and its a really big bad thing about it</td>\n",
       "      <td>negative</td>\n",
       "    </tr>\n",
       "    <tr>\n",
       "      <th>5</th>\n",
       "      <td>seriously would pay 30 a flight for seats tha...</td>\n",
       "      <td>negative</td>\n",
       "    </tr>\n",
       "    <tr>\n",
       "      <th>6</th>\n",
       "      <td>yes nearly every time i fly vx this ear worm ...</td>\n",
       "      <td>positive</td>\n",
       "    </tr>\n",
       "  </tbody>\n",
       "</table>\n",
       "</div>"
      ],
      "text/plain": [
       "                                                text airline_sentiment\n",
       "1   plus youve added commercials to the experienc...          positive\n",
       "3   its really aggressive to blast obnoxious ente...          negative\n",
       "4            and its a really big bad thing about it          negative\n",
       "5   seriously would pay 30 a flight for seats tha...          negative\n",
       "6   yes nearly every time i fly vx this ear worm ...          positive"
      ]
     },
     "execution_count": 6,
     "metadata": {},
     "output_type": "execute_result"
    }
   ],
   "source": [
    "df.head(5) #Quick Look "
   ]
  },
  {
   "cell_type": "code",
   "execution_count": 7,
   "metadata": {},
   "outputs": [
    {
     "data": {
      "image/png": "[encoded data removed]",
      "text/plain": [
       "<Figure size 1000x600 with 1 Axes>"
      ]
     },
     "metadata": {},
     "output_type": "display_data"
    }
   ],
   "source": [
    "# sns.countplot(df.airline_sentiment);#Mostly Negative Reviews(Class Imbalance found) \n",
    "\n",
    "\n",
    "plt.figure(figsize=(10,6))\n",
    "sns.countplot(x='airline_sentiment', data=df, palette='viridis')  # <-- added palette\n",
    "plt.title('Airline Distribution')\n",
    "plt.xticks(rotation=45)\n",
    "plt.show()"
   ]
  },
  {
   "cell_type": "markdown",
   "metadata": {},
   "source": [
    "This next line of code drops the first 5000 rows where the value of the \"airline_sentiment\" column is \"negative\" from a pandas DataFrame called \"df\", due to unequal amount of negatives to positives\n",
    "\n",
    "In summary, the code drops the first 5000 rows where the value of the \"airline_sentiment\" column is \"negative\" from the original DataFrame \"df\" and returns a new DataFrame without those rows."
   ]
  },
  {
   "cell_type": "code",
   "execution_count": 8,
   "metadata": {},
   "outputs": [],
   "source": [
    "df = df.drop(df[df.airline_sentiment == \"negative\"].iloc[:5000].index)"
   ]
  },
  {
   "cell_type": "code",
   "execution_count": 9,
   "metadata": {},
   "outputs": [
    {
     "data": {
      "image/png": "[encoded data removed]",
      "text/plain": [
       "<Figure size 1000x600 with 1 Axes>"
      ]
     },
     "metadata": {},
     "output_type": "display_data"
    }
   ],
   "source": [
    "# sns.countplot(df.airline_sentiment);\n",
    "\n",
    "\n",
    "plt.figure(figsize=(10,6))\n",
    "sns.countplot(x='airline_sentiment', data=df, palette='viridis')  # <-- added palette\n",
    "plt.title('Airline Distribution')\n",
    "plt.xticks(rotation=45)\n",
    "plt.show()"
   ]
  },
  {
   "cell_type": "markdown",
   "metadata": {},
   "source": [
    "This code snippet uses the Keras Tokenizer and pad_sequences functions to preprocess text data. Specifically, it tokenizes the text data by splitting the text into individual words and then maps these words to integers. The maximum number of unique words to be considered is set to 4000 using the max_features parameter of the Tokenizer function.\n",
    "\n",
    "After the text is tokenized, the pad_sequences function is used to ensure that all sequences have the same length by adding padding to the beginning or end of the sequences as needed. The resulting X variable is a two-dimensional numpy array where each row represents a sequence of integers corresponding to the words in the original text.\n",
    "\n",
    "Overall, this code prepares the text data for use in a machine learning model by converting it into a format that can be easily processed by the model."
   ]
  },
  {
   "cell_type": "code",
   "execution_count": 10,
   "metadata": {},
   "outputs": [],
   "source": [
    "# Tokenizing\n",
    "max_features = 4000   # (typo fixed: max_fatures -> max_features)\n",
    "tokenizer = Tokenizer(num_words=max_features, split=' ')\n",
    "tokenizer.fit_on_texts(df['text'].values)\n",
    "X = tokenizer.texts_to_sequences(df['text'].values)\n",
    "X = pad_sequences(X)\n",
    "\n",
    "y = df['airline_sentiment'].map({\"negative\": 0, \"positive\": 1}).values"
   ]
  },
  {
   "cell_type": "markdown",
   "metadata": {},
   "source": [
    "**Train Test Split**"
   ]
  },
  {
   "cell_type": "code",
   "execution_count": 11,
   "metadata": {},
   "outputs": [],
   "source": [
    "# Splitting\n",
    "X_train, X_test, Y_train, Y_test = train_test_split(X, y, \n",
    "            test_size=0.3, \n",
    "            shuffle=True,\n",
    "            stratify=y,\n",
    "            random_state=1\n",
    ")\n"
   ]
  },
  {
   "cell_type": "markdown",
   "metadata": {},
   "source": [
    "# Defining the Model"
   ]
  },
  {
   "cell_type": "code",
   "execution_count": 12,
   "metadata": {},
   "outputs": [
    {
     "name": "stderr",
     "output_type": "stream",
     "text": [
      "c:\\Users\\hi\\Desktop\\projects\\python_projects\\tutorial\\tut_tensorflow\\.venv\\Lib\\site-packages\\keras\\src\\layers\\core\\embedding.py:90: UserWarning: Argument `input_length` is deprecated. Just remove it.\n",
      "  warnings.warn(\n"
     ]
    }
   ],
   "source": [
    "import tensorflow as tf\n",
    "\n",
    "embed_dim = 128\n",
    "rnn_units = 196  # similar to your previous lstm_out\n",
    "\n",
    "model = tf.keras.models.Sequential()\n",
    "model.add(tf.keras.layers.Embedding(max_features, embed_dim, input_length=X_train.shape[1]))\n",
    "model.add(tf.keras.layers.SimpleRNN(rnn_units))\n",
    "model.add(tf.keras.layers.Dense(100, activation='relu'))\n",
    "model.add(tf.keras.layers.Dense(2, activation='softmax'))  # 2 classes: negative, positive\n",
    "\n",
    "# Compile\n",
    "model.compile(\n",
    "    optimizer=\"adam\",\n",
    "    loss=\"sparse_categorical_crossentropy\",\n",
    "    metrics=[\"accuracy\"]\n",
    ")\n"
   ]
  },
  {
   "cell_type": "code",
   "execution_count": 13,
   "metadata": {},
   "outputs": [],
   "source": [
    "model.compile(optimizer=\"adam\", loss=\"sparse_categorical_crossentropy\", metrics=[\"accuracy\"])"
   ]
  },
  {
   "cell_type": "markdown",
   "metadata": {},
   "source": [
    "# Training the Model"
   ]
  },
  {
   "cell_type": "code",
   "execution_count": 14,
   "metadata": {},
   "outputs": [
    {
     "name": "stdout",
     "output_type": "stream",
     "text": [
      "Epoch 1/20\n",
      "115/115 - 5s - 40ms/step - accuracy: 0.7321 - loss: 0.5244 - val_accuracy: 0.8352 - val_loss: 0.4078\n",
      "Epoch 2/20\n",
      "115/115 - 2s - 14ms/step - accuracy: 0.9080 - loss: 0.2229 - val_accuracy: 0.8515 - val_loss: 0.3458\n",
      "Epoch 3/20\n",
      "115/115 - 2s - 14ms/step - accuracy: 0.9730 - loss: 0.0805 - val_accuracy: 0.8723 - val_loss: 0.3839\n",
      "Epoch 4/20\n",
      "115/115 - 2s - 13ms/step - accuracy: 0.9945 - loss: 0.0231 - val_accuracy: 0.8603 - val_loss: 0.4918\n",
      "Epoch 5/20\n",
      "115/115 - 2s - 13ms/step - accuracy: 0.9956 - loss: 0.0184 - val_accuracy: 0.8865 - val_loss: 0.5057\n",
      "Epoch 6/20\n",
      "115/115 - 2s - 14ms/step - accuracy: 0.9986 - loss: 0.0060 - val_accuracy: 0.8755 - val_loss: 0.5184\n",
      "Epoch 7/20\n",
      "115/115 - 2s - 14ms/step - accuracy: 0.9992 - loss: 0.0046 - val_accuracy: 0.8734 - val_loss: 0.6124\n",
      "Epoch 8/20\n",
      "115/115 - 2s - 14ms/step - accuracy: 0.9995 - loss: 0.0015 - val_accuracy: 0.8646 - val_loss: 0.6882\n",
      "Epoch 9/20\n",
      "115/115 - 2s - 14ms/step - accuracy: 0.9992 - loss: 0.0021 - val_accuracy: 0.8832 - val_loss: 0.5642\n",
      "Epoch 10/20\n",
      "115/115 - 2s - 14ms/step - accuracy: 0.9992 - loss: 0.0019 - val_accuracy: 0.8832 - val_loss: 0.6641\n",
      "\n",
      "Time per epoch (in seconds): [4.544415712356567, 1.5758984088897705, 1.571518898010254, 1.541666030883789, 1.5383877754211426, 1.5620229244232178, 1.5528225898742676, 1.5632920265197754, 1.5557036399841309, 1.5766353607177734]\n",
      "Total training time: 0.31 minutes\n"
     ]
    }
   ],
   "source": [
    "import time\n",
    "EPOCHS = 20\n",
    "\n",
    "# Time Tracking Callback\n",
    "class TimeHistory(tf.keras.callbacks.Callback):\n",
    "    def on_train_begin(self, logs=None):\n",
    "        self.times = []\n",
    "    \n",
    "    def on_epoch_begin(self, epoch, logs=None):\n",
    "        self.epoch_time_start = time.time()\n",
    "    \n",
    "    def on_epoch_end(self, epoch, logs=None):\n",
    "        self.times.append(time.time() - self.epoch_time_start)\n",
    "\n",
    "# Create callbacks\n",
    "time_callback = TimeHistory()\n",
    "\n",
    "early_stopping = tf.keras.callbacks.EarlyStopping(\n",
    "    monitor='val_accuracy',    # Monitor validation accuracy\n",
    "    patience=5,                # Stop after 5 epochs without improvement\n",
    "    restore_best_weights=True  # Restore the best model weights\n",
    ")\n",
    "\n",
    "# Train\n",
    "history = model.fit(\n",
    "    X_train, \n",
    "    Y_train,\n",
    "    epochs=EPOCHS,\n",
    "    batch_size=32,\n",
    "    validation_split=0.2,\n",
    "    verbose=2,\n",
    "    callbacks=[time_callback, early_stopping]\n",
    ")\n",
    "\n",
    "# After training\n",
    "print(\"\\nTime per epoch (in seconds):\", time_callback.times)\n",
    "\n",
    "total_time_min = sum(time_callback.times) / 60\n",
    "print(f\"Total training time: {total_time_min:.2f} minutes\")\n"
   ]
  },
  {
   "cell_type": "code",
   "execution_count": 15,
   "metadata": {},
   "outputs": [
    {
     "name": "stdout",
     "output_type": "stream",
     "text": [
      "loss =  0.5198368430137634\n",
      "accuracy =  0.8746815919876099\n"
     ]
    }
   ],
   "source": [
    "score = model.evaluate(X_test, Y_test, verbose=False)\n",
    "print(\"loss = \",score[0])\n",
    "print(\"accuracy = \",score[1])"
   ]
  },
  {
   "cell_type": "markdown",
   "metadata": {},
   "source": [
    "**Ploting the confusion matrix**"
   ]
  },
  {
   "cell_type": "code",
   "execution_count": 16,
   "metadata": {},
   "outputs": [
    {
     "name": "stdout",
     "output_type": "stream",
     "text": [
      "\u001b[1m62/62\u001b[0m \u001b[32m━━━━━━━━━━━━━━━━━━━━\u001b[0m\u001b[37m\u001b[0m \u001b[1m1s\u001b[0m 8ms/step   \n"
     ]
    },
    {
     "data": {
      "image/png": "[encoded data removed]",
      "text/plain": [
       "<Figure size 640x480 with 2 Axes>"
      ]
     },
     "metadata": {},
     "output_type": "display_data"
    }
   ],
   "source": [
    "def plot_confusion_matrix(cm, classes,\n",
    "                          normalize=False,\n",
    "                          title='Confusion matrix',\n",
    "                          cmap=plt.cm.Blues):\n",
    "    plt.imshow(cm, interpolation='nearest', cmap=cmap)\n",
    "    plt.title(title)\n",
    "    plt.colorbar()\n",
    "    tick_marks = np.arange(len(classes))\n",
    "    plt.xticks(tick_marks, classes, rotation=45)\n",
    "    plt.yticks(tick_marks, classes)\n",
    "    if normalize:\n",
    "        cm = cm.astype('float') / cm.sum(axis=1)[:, np.newaxis]\n",
    "\n",
    "    thresh = cm.max() / 2.\n",
    "    for i, j in itertools.product(range(cm.shape[0]), range(cm.shape[1])):\n",
    "        plt.text(j, i, cm[i, j],\n",
    "                 horizontalalignment=\"center\",\n",
    "                 color=\"white\" if cm[i, j] > thresh else \"black\")\n",
    "\n",
    "    plt.tight_layout()\n",
    "    plt.ylabel('True label')\n",
    "    plt.xlabel('Predicted label')\n",
    "\n",
    "y_pred = model.predict(X_test)\n",
    "y_pred_classes = np.argmax(y_pred,axis = 1) \n",
    "confusion_mtx = confusion_matrix(Y_test, y_pred_classes) \n",
    "plot_confusion_matrix(confusion_mtx, classes = range(2)) "
   ]
  },
  {
   "cell_type": "code",
   "execution_count": 17,
   "metadata": {},
   "outputs": [
    {
     "name": "stdout",
     "output_type": "stream",
     "text": [
      "\u001b[1m62/62\u001b[0m \u001b[32m━━━━━━━━━━━━━━━━━━━━\u001b[0m\u001b[37m\u001b[0m \u001b[1m0s\u001b[0m 5ms/step \n",
      "[[91.46730463  8.53269537]\n",
      " [19.60507757 80.39492243]]\n",
      "####################\n"
     ]
    },
    {
     "data": {
      "image/png": "[encoded data removed]",
      "text/plain": [
       "<Figure size 800x600 with 1 Axes>"
      ]
     },
     "metadata": {},
     "output_type": "display_data"
    }
   ],
   "source": [
    "# Predict classes\n",
    "y_pred = model.predict(X_test)\n",
    "y_pred_classes = np.argmax(y_pred, axis=1)\n",
    "\n",
    "# Confusion matrix\n",
    "confusion_mtx = confusion_matrix(Y_test, y_pred_classes)\n",
    "\n",
    "# Calculate percentage values\n",
    "cm_percent = confusion_mtx.astype('float') / confusion_mtx.sum(axis=1)[:, np.newaxis] * 100\n",
    "print(cm_percent)\n",
    "print(\"####################\")\n",
    "\n",
    "# Plot confusion matrix with percentages\n",
    "plt.figure(figsize=(8,6))\n",
    "sns.heatmap(confusion_mtx, annot=False, fmt='d', cmap='Blues', cbar=False, \n",
    "            xticklabels=['Negative', 'Positive'], yticklabels=['Negative', 'Positive'])\n",
    "\n",
    "# Add percentage annotations\n",
    "for i in range(confusion_mtx.shape[0]):\n",
    "    for j in range(confusion_mtx.shape[1]):\n",
    "        plt.text(j + 0.5, i + 0.5, f\"{cm_percent[i, j]:.1f}%\", \n",
    "                 ha='center', va='center', color='black', fontsize=12)\n",
    "\n",
    "# Add labels and title\n",
    "plt.ylabel('True Label')\n",
    "plt.xlabel('Predicted Label')\n",
    "plt.title('Confusion Matrix with Percentages')\n",
    "\n",
    "# Show plot\n",
    "plt.show()\n"
   ]
  },
  {
   "cell_type": "markdown",
   "metadata": {},
   "source": [
    "# Model Test"
   ]
  },
  {
   "cell_type": "code",
   "execution_count": 18,
   "metadata": {},
   "outputs": [
    {
     "name": "stdout",
     "output_type": "stream",
     "text": [
      "[[   0    0    0    0    0    0    0    0    0    0    0    0    0    0\n",
      "     0    0    0    0    0    0    0    0    0    0    0 2030  237  147\n",
      "    11   40 2049]]\n",
      "1/1 - 0s - 54ms/step\n",
      "negative\n"
     ]
    }
   ],
   "source": [
    "sample = ['Meetings: Air crew is so dumb.']\n",
    "sample = tokenizer.texts_to_sequences(sample)\n",
    "sample = pad_sequences(sample, maxlen=31, dtype='int32', value=0)\n",
    "print(sample)\n",
    "sentiment = model.predict(sample,batch_size=1,verbose = 2)[0]\n",
    "if(np.argmax(sentiment) == 0):\n",
    "    print(\"negative\")\n",
    "elif (np.argmax(sentiment) == 1):\n",
    "    print(\"positive\")"
   ]
  },
  {
   "cell_type": "code",
   "execution_count": 19,
   "metadata": {},
   "outputs": [
    {
     "name": "stdout",
     "output_type": "stream",
     "text": [
      "[[   0    0    0    0    0    0    0    0    0    0    0    0    0    0\n",
      "     0    0    0    0    0    0    0    0    0    0  237  147   17  220\n",
      "     7 1122  165]]\n",
      "1/1 - 0s - 47ms/step\n",
      "positive\n"
     ]
    }
   ],
   "source": [
    "sample = ['Air crew was nice and pleasant experience.']\n",
    "sample = tokenizer.texts_to_sequences(sample)\n",
    "sample = pad_sequences(sample, maxlen=31, dtype='int32', value=0)\n",
    "print(sample)\n",
    "sentiment = model.predict(sample,batch_size=1,verbose = 2)[0]\n",
    "if(np.argmax(sentiment) == 0):\n",
    "    print(\"negative\")\n",
    "elif (np.argmax(sentiment) == 1):\n",
    "    print(\"positive\")"
   ]
  },
  {
   "cell_type": "code",
   "execution_count": null,
   "metadata": {},
   "outputs": [],
   "source": []
  }
 ],
 "metadata": {
  "kernelspec": {
   "display_name": "Python 3 (ipykernel)",
   "language": "python",
   "name": "python3"
  },
  "language_info": {
   "codemirror_mode": {
    "name": "ipython",
    "version": 3
   },
   "file_extension": ".py",
   "mimetype": "text/x-python",
   "name": "python",
   "nbconvert_exporter": "python",
   "pygments_lexer": "ipython3",
   "version": "3.11.2"
  }
 },
 "nbformat": 4,
 "nbformat_minor": 4
}
