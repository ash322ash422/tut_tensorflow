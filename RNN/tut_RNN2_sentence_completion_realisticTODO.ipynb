{
 "cells": [
  {
   "cell_type": "markdown",
   "id": "aa2a6f19-fc77-49b8-804a-c11a992dec22",
   "metadata": {},
   "source": [
    "## Realitic example"
   ]
  },
  {
   "cell_type": "code",
   "execution_count": 3,
   "id": "a6f1464e-100a-4d1f-b92b-0e24785ee293",
   "metadata": {},
   "outputs": [
    {
     "name": "stdout",
     "output_type": "stream",
     "text": [
      "Downloaded text length: 148080 characters\n",
      "Unique characters: 71\n",
      "Total sequences: 144732\n",
      "Epoch 1/20\n"
     ]
    },
    {
     "name": "stderr",
     "output_type": "stream",
     "text": [
      "c:\\Users\\hi\\Desktop\\projects\\python_projects\\tutorial\\tut_tensorflow\\.venv\\Lib\\site-packages\\keras\\src\\layers\\core\\embedding.py:90: UserWarning: Argument `input_length` is deprecated. Just remove it.\n",
      "  warnings.warn(\n"
     ]
    },
    {
     "name": "stdout",
     "output_type": "stream",
     "text": [
      "\u001b[1m2261/2261\u001b[0m \u001b[32m━━━━━━━━━━━━━━━━━━━━\u001b[0m\u001b[37m\u001b[0m \u001b[1m187s\u001b[0m 81ms/step - loss: 2.6123\n",
      "Epoch 2/20\n",
      "\u001b[1m2261/2261\u001b[0m \u001b[32m━━━━━━━━━━━━━━━━━━━━\u001b[0m\u001b[37m\u001b[0m \u001b[1m176s\u001b[0m 78ms/step - loss: 1.9740\n",
      "Epoch 3/20\n",
      "\u001b[1m2261/2261\u001b[0m \u001b[32m━━━━━━━━━━━━━━━━━━━━\u001b[0m\u001b[37m\u001b[0m \u001b[1m174s\u001b[0m 77ms/step - loss: 1.8007\n",
      "Epoch 4/20\n",
      "\u001b[1m2261/2261\u001b[0m \u001b[32m━━━━━━━━━━━━━━━━━━━━\u001b[0m\u001b[37m\u001b[0m \u001b[1m181s\u001b[0m 80ms/step - loss: 1.6969\n",
      "Epoch 5/20\n",
      "\u001b[1m2261/2261\u001b[0m \u001b[32m━━━━━━━━━━━━━━━━━━━━\u001b[0m\u001b[37m\u001b[0m \u001b[1m181s\u001b[0m 80ms/step - loss: 1.6240\n",
      "Epoch 6/20\n",
      "\u001b[1m2261/2261\u001b[0m \u001b[32m━━━━━━━━━━━━━━━━━━━━\u001b[0m\u001b[37m\u001b[0m \u001b[1m184s\u001b[0m 82ms/step - loss: 1.5638\n",
      "Epoch 7/20\n",
      "\u001b[1m2261/2261\u001b[0m \u001b[32m━━━━━━━━━━━━━━━━━━━━\u001b[0m\u001b[37m\u001b[0m \u001b[1m184s\u001b[0m 81ms/step - loss: 1.5168\n",
      "Epoch 8/20\n",
      "\u001b[1m2261/2261\u001b[0m \u001b[32m━━━━━━━━━━━━━━━━━━━━\u001b[0m\u001b[37m\u001b[0m \u001b[1m185s\u001b[0m 82ms/step - loss: 1.4792\n",
      "Epoch 9/20\n",
      "\u001b[1m2261/2261\u001b[0m \u001b[32m━━━━━━━━━━━━━━━━━━━━\u001b[0m\u001b[37m\u001b[0m \u001b[1m191s\u001b[0m 84ms/step - loss: 1.4448\n",
      "Epoch 10/20\n",
      "\u001b[1m2261/2261\u001b[0m \u001b[32m━━━━━━━━━━━━━━━━━━━━\u001b[0m\u001b[37m\u001b[0m \u001b[1m186s\u001b[0m 82ms/step - loss: 1.4130\n",
      "Epoch 11/20\n",
      "\u001b[1m2261/2261\u001b[0m \u001b[32m━━━━━━━━━━━━━━━━━━━━\u001b[0m\u001b[37m\u001b[0m \u001b[1m191s\u001b[0m 85ms/step - loss: 1.3917\n",
      "Epoch 12/20\n",
      "\u001b[1m2261/2261\u001b[0m \u001b[32m━━━━━━━━━━━━━━━━━━━━\u001b[0m\u001b[37m\u001b[0m \u001b[1m187s\u001b[0m 83ms/step - loss: 1.3655\n",
      "Epoch 13/20\n",
      "\u001b[1m2261/2261\u001b[0m \u001b[32m━━━━━━━━━━━━━━━━━━━━\u001b[0m\u001b[37m\u001b[0m \u001b[1m189s\u001b[0m 83ms/step - loss: 1.3445\n",
      "Epoch 14/20\n",
      "\u001b[1m2261/2261\u001b[0m \u001b[32m━━━━━━━━━━━━━━━━━━━━\u001b[0m\u001b[37m\u001b[0m \u001b[1m190s\u001b[0m 84ms/step - loss: 1.3263\n",
      "Epoch 15/20\n",
      "\u001b[1m2261/2261\u001b[0m \u001b[32m━━━━━━━━━━━━━━━━━━━━\u001b[0m\u001b[37m\u001b[0m \u001b[1m191s\u001b[0m 85ms/step - loss: 1.3081\n",
      "Epoch 16/20\n",
      "\u001b[1m2261/2261\u001b[0m \u001b[32m━━━━━━━━━━━━━━━━━━━━\u001b[0m\u001b[37m\u001b[0m \u001b[1m194s\u001b[0m 86ms/step - loss: 1.2958\n",
      "Epoch 17/20\n",
      "\u001b[1m2261/2261\u001b[0m \u001b[32m━━━━━━━━━━━━━━━━━━━━\u001b[0m\u001b[37m\u001b[0m \u001b[1m195s\u001b[0m 86ms/step - loss: 1.2751\n",
      "Epoch 18/20\n",
      "\u001b[1m2261/2261\u001b[0m \u001b[32m━━━━━━━━━━━━━━━━━━━━\u001b[0m\u001b[37m\u001b[0m \u001b[1m199s\u001b[0m 88ms/step - loss: 1.2637\n",
      "Epoch 19/20\n",
      "\u001b[1m2261/2261\u001b[0m \u001b[32m━━━━━━━━━━━━━━━━━━━━\u001b[0m\u001b[37m\u001b[0m \u001b[1m199s\u001b[0m 88ms/step - loss: 1.2483\n",
      "Epoch 20/20\n",
      "\u001b[1m2261/2261\u001b[0m \u001b[32m━━━━━━━━━━━━━━━━━━━━\u001b[0m\u001b[37m\u001b[0m \u001b[1m22290s\u001b[0m 10s/step - loss: 1.2369 \n",
      "\n",
      "--- GENERATED TEXT ---\n",
      "\n"
     ]
    },
    {
     "ename": "AttributeError",
     "evalue": "'Sequential' object has no attribute 'reset_states'",
     "output_type": "error",
     "traceback": [
      "\u001b[1;31m---------------------------------------------------------------------------\u001b[0m",
      "\u001b[1;31mAttributeError\u001b[0m                            Traceback (most recent call last)",
      "Cell \u001b[1;32mIn[3], line 83\u001b[0m\n\u001b[0;32m     81\u001b[0m \u001b[38;5;66;03m# Try it!\u001b[39;00m\n\u001b[0;32m     82\u001b[0m \u001b[38;5;28mprint\u001b[39m(\u001b[38;5;124m\"\u001b[39m\u001b[38;5;130;01m\\n\u001b[39;00m\u001b[38;5;124m--- GENERATED TEXT ---\u001b[39m\u001b[38;5;130;01m\\n\u001b[39;00m\u001b[38;5;124m\"\u001b[39m)\n\u001b[1;32m---> 83\u001b[0m \u001b[38;5;28mprint\u001b[39m(\u001b[43mgenerate_text\u001b[49m\u001b[43m(\u001b[49m\u001b[43mmodel\u001b[49m\u001b[43m,\u001b[49m\u001b[43m \u001b[49m\u001b[43mstart_string\u001b[49m\u001b[38;5;241;43m=\u001b[39;49m\u001b[38;5;124;43m\"\u001b[39;49m\u001b[38;5;124;43mAlice\u001b[39;49m\u001b[38;5;124;43m\"\u001b[39;49m\u001b[43m,\u001b[49m\u001b[43m \u001b[49m\u001b[43mgen_length\u001b[49m\u001b[38;5;241;43m=\u001b[39;49m\u001b[38;5;241;43m500\u001b[39;49m\u001b[43m)\u001b[49m)\n",
      "Cell \u001b[1;32mIn[3], line 69\u001b[0m, in \u001b[0;36mgenerate_text\u001b[1;34m(model, start_string, gen_length)\u001b[0m\n\u001b[0;32m     66\u001b[0m text_generated \u001b[38;5;241m=\u001b[39m []\n\u001b[0;32m     67\u001b[0m temperature \u001b[38;5;241m=\u001b[39m \u001b[38;5;241m1.0\u001b[39m  \u001b[38;5;66;03m# Higher = more random, Lower = more greedy\u001b[39;00m\n\u001b[1;32m---> 69\u001b[0m \u001b[43mmodel\u001b[49m\u001b[38;5;241;43m.\u001b[39;49m\u001b[43mreset_states\u001b[49m()\n\u001b[0;32m     70\u001b[0m \u001b[38;5;28;01mfor\u001b[39;00m _ \u001b[38;5;129;01min\u001b[39;00m \u001b[38;5;28mrange\u001b[39m(gen_length):\n\u001b[0;32m     71\u001b[0m     predictions \u001b[38;5;241m=\u001b[39m model(input_eval)\n",
      "\u001b[1;31mAttributeError\u001b[0m: 'Sequential' object has no attribute 'reset_states'"
     ]
    }
   ],
   "source": [
    "import tensorflow as tf\n",
    "import numpy as np\n",
    "import requests\n",
    "import os\n",
    "\n",
    "# Step 1: Download the text\n",
    "url = 'https://www.gutenberg.org/files/11/11-0.txt'\n",
    "response = requests.get(url)\n",
    "text = response.text\n",
    "\n",
    "print(f\"Downloaded text length: {len(text)} characters\")\n",
    "\n",
    "# Step 2: Preprocess the text\n",
    "# Only keep ASCII characters to avoid weird symbols\n",
    "text = ''.join(c for c in text if ord(c) < 128)\n",
    "\n",
    "# Create character to index and index to character mappings\n",
    "chars = sorted(list(set(text)))\n",
    "vocab_size = len(chars)\n",
    "print(f\"Unique characters: {vocab_size}\")\n",
    "\n",
    "char_to_idx = {ch: i for i, ch in enumerate(chars)}\n",
    "idx_to_char = {i: ch for i, ch in enumerate(chars)}\n",
    "\n",
    "# Encode entire text\n",
    "encoded_text = np.array([char_to_idx[c] for c in text])\n",
    "\n",
    "# Step 3: Create input-output sequences\n",
    "seq_length = 100  # each input will be 100 characters\n",
    "step = 1          # move 1 character forward each time\n",
    "sequences = []\n",
    "next_chars = []\n",
    "\n",
    "for i in range(0, len(encoded_text) - seq_length, step):\n",
    "    sequences.append(encoded_text[i:i+seq_length])\n",
    "    next_chars.append(encoded_text[i+seq_length])\n",
    "\n",
    "print(f\"Total sequences: {len(sequences)}\")\n",
    "\n",
    "# Convert to TensorFlow dataset\n",
    "X = np.array(sequences)\n",
    "y = np.array(next_chars)\n",
    "\n",
    "dataset = tf.data.Dataset.from_tensor_slices((X, y))\n",
    "dataset = dataset.shuffle(10000).batch(64, drop_remainder=True)\n",
    "\n",
    "# Step 4: Build the model\n",
    "model = tf.keras.Sequential([\n",
    "    tf.keras.layers.Embedding(vocab_size, 64, input_length=seq_length),\n",
    "    tf.keras.layers.LSTM(128, return_sequences=False),\n",
    "    tf.keras.layers.Dense(vocab_size)\n",
    "])\n",
    "\n",
    "model.compile(loss=tf.keras.losses.SparseCategoricalCrossentropy(from_logits=True),\n",
    "              optimizer='adam')\n"
   ]
  },
  {
   "cell_type": "code",
   "execution_count": null,
   "id": "2c62a56a-c20d-45dc-952c-ce988d537998",
   "metadata": {},
   "outputs": [],
   "source": [
    "# Step 5: Train\n",
    "EPOCHS = 2 # 50\n",
    "\n",
    "class TimeHistory(tf.keras.callbacks.Callback):\n",
    "    def on_train_begin(self, logs=None):\n",
    "        self.times = []\n",
    "    \n",
    "    def on_epoch_begin(self, epoch, logs=None):\n",
    "        self.epoch_time_start = time.time()\n",
    "    \n",
    "    def on_epoch_end(self, epoch, logs=None):\n",
    "        self.times.append(time.time() - self.epoch_time_start)\n",
    "\n",
    "# Create callback\n",
    "time_callback = TimeHistory()\n",
    "\n",
    "# Train model with callback\n",
    "history = model.fit(dataset, epochs=EPOCHS, callbacks=[time_callback])"
   ]
  },
  {
   "cell_type": "code",
   "execution_count": 11,
   "id": "5b3f8936-7a36-42a1-bd19-113af4675d5f",
   "metadata": {},
   "outputs": [
    {
     "name": "stdout",
     "output_type": "stream",
     "text": [
      "\n",
      "--- GENERATED TEXT ---\n",
      "\n",
      "AlicetZid:_                                                                                                                                                                                                                                                                                                                                                                                                                                                                                                              \n"
     ]
    }
   ],
   "source": [
    "# Step 6: Text Generation\n",
    "def generate_text(model, start_string, gen_length=500):\n",
    "    input_eval = [char_to_idx[s] for s in start_string]\n",
    "    input_eval = tf.expand_dims(input_eval, 0)\n",
    "\n",
    "    text_generated = []\n",
    "    temperature = 0.01  # Higher = more random, Lower = more greedy\n",
    "\n",
    "    for _ in range(gen_length):\n",
    "        predictions = model(input_eval)\n",
    "        predictions = predictions / temperature  # No slicing needed!\n",
    "\n",
    "        predicted_id = tf.random.categorical(predictions, num_samples=1)[-1, 0].numpy()\n",
    "\n",
    "        input_eval = tf.expand_dims([predicted_id], 0)\n",
    "        text_generated.append(idx_to_char[predicted_id])\n",
    "\n",
    "    return start_string + ''.join(text_generated)\n",
    "\n",
    "# Try it!\n",
    "print(\"\\n--- GENERATED TEXT ---\\n\")\n",
    "print(generate_text(model, start_string=\"Alice\", gen_length=500))\n"
   ]
  },
  {
   "cell_type": "code",
   "execution_count": null,
   "id": "f0552f25-e3b3-47ab-b090-ca2430a3d963",
   "metadata": {},
   "outputs": [],
   "source": []
  }
 ],
 "metadata": {
  "kernelspec": {
   "display_name": "Python 3 (ipykernel)",
   "language": "python",
   "name": "python3"
  },
  "language_info": {
   "codemirror_mode": {
    "name": "ipython",
    "version": 3
   },
   "file_extension": ".py",
   "mimetype": "text/x-python",
   "name": "python",
   "nbconvert_exporter": "python",
   "pygments_lexer": "ipython3",
   "version": "3.9.9"
  }
 },
 "nbformat": 4,
 "nbformat_minor": 5
}
