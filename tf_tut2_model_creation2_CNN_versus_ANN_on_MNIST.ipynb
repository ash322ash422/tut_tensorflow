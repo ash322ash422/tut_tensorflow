{
 "cells": [
  {
   "cell_type": "code",
   "execution_count": 1,
   "id": "788aad9a-e20c-4b83-b291-cbfd1a90edfb",
   "metadata": {},
   "outputs": [],
   "source": [
    "import tensorflow as tf\n",
    "from tensorflow.keras.datasets import mnist\n",
    "from tensorflow.keras.utils import to_categorical\n",
    "from tensorflow.keras.models import Sequential\n",
    "from tensorflow.keras.layers import Dense, Flatten, Conv2D, MaxPooling2D\n",
    "\n",
    "# Load and preprocess data\n",
    "(x_train, y_train), (x_test, y_test) = mnist.load_data()\n",
    "\n",
    "# Normalize pixel values\n",
    "x_train = x_train / 255.0\n",
    "x_test = x_test / 255.0\n",
    "\n",
    "# Reshape for CNN input (batch, height, width, channels)\n",
    "x_train_cnn = x_train.reshape(-1, 28, 28, 1)\n",
    "x_test_cnn = x_test.reshape(-1, 28, 28, 1)\n",
    "\n",
    "# One-hot encode the labels\n",
    "y_train_cat = to_categorical(y_train, 10)\n",
    "y_test_cat = to_categorical(y_test, 10)"
   ]
  },
  {
   "cell_type": "code",
   "execution_count": 2,
   "id": "26682b2b-8f56-44b0-bf72-95832db2f46b",
   "metadata": {},
   "outputs": [
    {
     "name": "stderr",
     "output_type": "stream",
     "text": [
      "c:\\Users\\hi\\Desktop\\projects\\python_projects\\tutorial\\tut_tensorflow\\.venv\\Lib\\site-packages\\keras\\src\\layers\\reshaping\\flatten.py:37: UserWarning: Do not pass an `input_shape`/`input_dim` argument to a layer. When using Sequential models, prefer using an `Input(shape)` object as the first layer in the model instead.\n",
      "  super().__init__(**kwargs)\n"
     ]
    },
    {
     "name": "stdout",
     "output_type": "stream",
     "text": [
      "Epoch 1/5\n",
      "469/469 - 3s - 7ms/step - accuracy: 0.9016 - loss: 0.3585\n",
      "Epoch 2/5\n",
      "469/469 - 1s - 3ms/step - accuracy: 0.9527 - loss: 0.1665\n",
      "Epoch 3/5\n",
      "469/469 - 1s - 3ms/step - accuracy: 0.9654 - loss: 0.1201\n",
      "Epoch 4/5\n",
      "469/469 - 1s - 3ms/step - accuracy: 0.9728 - loss: 0.0935\n",
      "Epoch 5/5\n",
      "469/469 - 2s - 4ms/step - accuracy: 0.9783 - loss: 0.0749\n",
      "ANN Test Accuracy: 0.9745\n"
     ]
    }
   ],
   "source": [
    "# ANN model\n",
    "ann_model = Sequential([\n",
    "    Flatten(input_shape=(28, 28)),\n",
    "    Dense(128, activation='relu'),\n",
    "    Dense(10, activation='softmax')\n",
    "])\n",
    "\n",
    "ann_model.compile(optimizer='adam', loss='categorical_crossentropy', metrics=['accuracy'])\n",
    "ann_model.fit(x_train, y_train_cat, epochs=5, batch_size=128, verbose=2)\n",
    "ann_accuracy = ann_model.evaluate(x_test, y_test_cat, verbose=0)[1]\n",
    "print(f\"ANN Test Accuracy: {ann_accuracy:.4f}\")"
   ]
  },
  {
   "cell_type": "code",
   "execution_count": 3,
   "id": "d6adc503-756a-44d2-ae7c-08070ea07e53",
   "metadata": {},
   "outputs": [
    {
     "name": "stderr",
     "output_type": "stream",
     "text": [
      "c:\\Users\\hi\\Desktop\\projects\\python_projects\\tutorial\\tut_tensorflow\\.venv\\Lib\\site-packages\\keras\\src\\layers\\convolutional\\base_conv.py:107: UserWarning: Do not pass an `input_shape`/`input_dim` argument to a layer. When using Sequential models, prefer using an `Input(shape)` object as the first layer in the model instead.\n",
      "  super().__init__(activity_regularizer=activity_regularizer, **kwargs)\n"
     ]
    },
    {
     "name": "stdout",
     "output_type": "stream",
     "text": [
      "Epoch 1/5\n",
      "469/469 - 9s - 19ms/step - accuracy: 0.9275 - loss: 0.2571\n",
      "Epoch 2/5\n",
      "469/469 - 7s - 15ms/step - accuracy: 0.9750 - loss: 0.0846\n",
      "Epoch 3/5\n",
      "469/469 - 7s - 16ms/step - accuracy: 0.9835 - loss: 0.0573\n",
      "Epoch 4/5\n",
      "469/469 - 7s - 15ms/step - accuracy: 0.9866 - loss: 0.0441\n",
      "Epoch 5/5\n",
      "469/469 - 10s - 22ms/step - accuracy: 0.9895 - loss: 0.0347\n",
      "CNN Test Accuracy: 0.9833\n"
     ]
    }
   ],
   "source": [
    "# CNN model\n",
    "cnn_model = Sequential([\n",
    "    Conv2D(32, (3,3), activation='relu', input_shape=(28,28,1)),\n",
    "    MaxPooling2D((2,2)),\n",
    "    Flatten(),\n",
    "    Dense(64, activation='relu'),\n",
    "    Dense(10, activation='softmax')\n",
    "])\n",
    "\n",
    "cnn_model.compile(optimizer='adam', loss='categorical_crossentropy', metrics=['accuracy'])\n",
    "cnn_model.fit(x_train_cnn, y_train_cat, epochs=5, batch_size=128, verbose=2)\n",
    "cnn_accuracy = cnn_model.evaluate(x_test_cnn, y_test_cat, verbose=0)[1]\n",
    "print(f\"CNN Test Accuracy: {cnn_accuracy:.4f}\")"
   ]
  },
  {
   "cell_type": "markdown",
   "id": "c966aaf5-fb3c-41a5-99af-6c7302d8cdb4",
   "metadata": {},
   "source": [
    "## conclusion\n",
    "### ANN Test Accuracy: 0.9745\n",
    "### CNN Test Accuracy: 0.9833"
   ]
  },
  {
   "cell_type": "code",
   "execution_count": null,
   "id": "0826b2fe-840f-4b5c-be69-9082b334a4a6",
   "metadata": {},
   "outputs": [],
   "source": []
  }
 ],
 "metadata": {
  "kernelspec": {
   "display_name": "Python 3 (ipykernel)",
   "language": "python",
   "name": "python3"
  },
  "language_info": {
   "codemirror_mode": {
    "name": "ipython",
    "version": 3
   },
   "file_extension": ".py",
   "mimetype": "text/x-python",
   "name": "python",
   "nbconvert_exporter": "python",
   "pygments_lexer": "ipython3",
   "version": "3.11.2"
  }
 },
 "nbformat": 4,
 "nbformat_minor": 5
}
