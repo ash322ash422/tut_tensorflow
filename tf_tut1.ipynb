{
 "cells": [
  {
   "cell_type": "markdown",
   "id": "d89b54b8-0c3e-4eb2-abb7-862b53b291a5",
   "metadata": {},
   "source": [
    "# Set up\n",
    "Need tensorflow==2.18.0 \n",
    "- (tensorflow-gpu and tensorflow are the same package since the release of version 2.1. Installing tensorflow alone will enable GPU acceleration.)\n",
    "\n",
    "pip install tensorflow\n",
    "* TensorFlow is an open source ML framework for all developers. It is used for implementing ML and deep learning applications.\n",
    "* Google team created TensorFlow.\n",
    "* official site www.tensorflow.org\n",
    "* Flexibility: TensorFlow caters to diverse ML tasks, encompassing image recognition, natural language processing (NLP), and recommender systems.\n",
    "* Scalability: Seamlessly handle large datasets and complex models on various hardware platforms, from single machines to powerful TPUs (Tensor Processing Units) in the cloud.\n",
    "* Open-Source Community: Benefit from a vibrant community of developers, extensive documentation, and a plethora of tutorials and resources to expedite your learning.\n",
    "* TensorBoard Visualization: TensorBoard, a built-in visualization suite, aids in monitoring model training progress, analyzing performance metrics, and debugging issues.* TensorFlow is well-documented and includes plenty of machine learning libraries\n",
    "* TensorFlow offers two primary interfaces for building ML models:\n",
    "\n",
    "1. Keras: A high-level API ideal for beginners and rapid prototyping. Keras abstracts away complexities, enabling you to focus on model design and experimentation.\n",
    "\n",
    "2. TensorFlow Core API: A low-level, more granular approach offering finer control over model architecture and computations. This is preferred for experienced developers or situations requiring extensive customization.\n",
    "\n",
    "\n",
    "TensorFlow is based on the idea of tensors. A tensor is a generalization of scalars, vectors, and matrices. You can think of it as a multi-dimensional array.\n",
    "\n",
    "- A scalar is a single number (0D tensor).\n",
    "- A vector is a one-dimensional array (1D tensor).\n",
    "- A matrix is a two-dimensional array (2D tensor).\n",
    "- Tensors with more than two dimensions are higher-order tensors (e.g., 3D, 4D).\n",
    "TensorFlow uses a computational graph to execute operations, where nodes represent operations and edges represent data (tensors) flowing between them."
   ]
  },
  {
   "cell_type": "markdown",
   "id": "53e14411-9a08-4526-8b3c-0a0ccfc932b3",
   "metadata": {},
   "source": [
    "## Hello World\n"
   ]
  },
  {
   "cell_type": "code",
   "execution_count": 1,
   "id": "7fe8c5a6-51c7-4956-b567-593952db075c",
   "metadata": {},
   "outputs": [
    {
     "name": "stdout",
     "output_type": "stream",
     "text": [
      "Hello, TensorFlow!\n"
     ]
    }
   ],
   "source": [
    "import tensorflow as tf\n",
    "msg = tf.constant('Hello, TensorFlow!')\n",
    "tf.print(msg)"
   ]
  },
  {
   "cell_type": "markdown",
   "id": "14dd3c3e-bad7-4ad5-9ac9-d6e42cabc8e4",
   "metadata": {},
   "source": [
    "## GPU installed ?\n",
    "Check if GPU is available"
   ]
  },
  {
   "cell_type": "code",
   "execution_count": 3,
   "id": "89e85763-7dc4-4069-8449-4058ccd89e34",
   "metadata": {},
   "outputs": [
    {
     "name": "stdout",
     "output_type": "stream",
     "text": [
      "TensorFlow version -  2.18.0\n",
      "TensorFlow is installed as CPU version.\n"
     ]
    }
   ],
   "source": [
    "import tensorflow as tf\n",
    "print('TensorFlow version - ',tf.__version__)\n",
    "# Check if GPU is available\n",
    "gpu_available = tf.config.list_physical_devices('GPU')\n",
    "\n",
    "if gpu_available:\n",
    "    print(\"TensorFlow is installed as GPU version.\")\n",
    "else:\n",
    "    print(\"TensorFlow is installed as CPU version.\")"
   ]
  },
  {
   "cell_type": "markdown",
   "id": "8be2cdee-a2f7-4e60-8d67-c30108b3845f",
   "metadata": {},
   "source": [
    "## Eager Execution\n",
    "In TensorFlow 2.x, eager execution is enabled by default, meaning operations are evaluated immediately. This is in contrast to the previous version (v1.x), where operations were added to a computational graph and executed only when a session was run.\n",
    "\n",
    "To check if eager execution is enabled in your environment, you can run this code:"
   ]
  },
  {
   "cell_type": "code",
   "execution_count": 12,
   "id": "a9bc85b3-9964-4421-9305-7008943d19bb",
   "metadata": {},
   "outputs": [
    {
     "name": "stdout",
     "output_type": "stream",
     "text": [
      "Eager execution enabled: True\n"
     ]
    }
   ],
   "source": [
    "print(\"Eager execution enabled:\", tf.executing_eagerly())\n"
   ]
  },
  {
   "cell_type": "code",
   "execution_count": 6,
   "id": "c1ef9aff-6bf2-4c81-975d-bf1f6c5e726f",
   "metadata": {},
   "outputs": [
    {
     "name": "stdout",
     "output_type": "stream",
     "text": [
      "Scalar: tf.Tensor(5, shape=(), dtype=int32)\n",
      "Vector: tf.Tensor([1 2 3], shape=(3,), dtype=int32)\n",
      "Matrix: tf.Tensor(\n",
      "[[1 2]\n",
      " [3 4]], shape=(2, 2), dtype=int32)\n",
      "3D Tensor: tf.Tensor(\n",
      "[[[1]\n",
      "  [2]]\n",
      "\n",
      " [[3]\n",
      "  [4]]], shape=(2, 2, 1), dtype=int32)\n"
     ]
    }
   ],
   "source": [
    "import tensorflow as tf\n",
    "\n",
    "# Scalar (0D tensor)\n",
    "scalar = tf.constant(5)\n",
    "print(\"Scalar:\", scalar)\n",
    "\n",
    "# Vector (1D tensor)\n",
    "vector = tf.constant([1, 2, 3])\n",
    "print(\"Vector:\", vector)\n",
    "\n",
    "# Matrix (2D tensor)\n",
    "matrix = tf.constant([[1, 2], [3, 4]])\n",
    "print(\"Matrix:\", matrix)\n",
    "\n",
    "# 3D Tensor\n",
    "tensor_3d = tf.constant([[[1], [2]], [[3], [4]]])\n",
    "print(\"3D Tensor:\", tensor_3d)\n"
   ]
  },
  {
   "cell_type": "markdown",
   "id": "3e5326c8-096e-4188-bb78-bf8e33f9d9c6",
   "metadata": {},
   "source": [
    "## TensorFlow Variables\n",
    "In TensorFlow, Variables are used to store and update values during the training process. Unlike constants, they are mutable and can be updated."
   ]
  },
  {
   "cell_type": "code",
   "execution_count": 13,
   "id": "b9ad1474-a401-4631-a57f-d477a003632a",
   "metadata": {},
   "outputs": [
    {
     "name": "stdout",
     "output_type": "stream",
     "text": [
      "Initial Variable: 0\n",
      "Updated Variable: 5\n"
     ]
    }
   ],
   "source": [
    "import tensorflow as tf\n",
    "\n",
    "# Create a variable initialized to 0\n",
    "var = tf.Variable(0, dtype=tf.int32)\n",
    "print(\"Initial Variable:\", var.numpy())\n",
    "\n",
    "# Update the variable by adding 5\n",
    "var.assign_add(5)\n",
    "print(\"Updated Variable:\", var.numpy())\n"
   ]
  },
  {
   "cell_type": "markdown",
   "id": "5dfe495d-cf5d-4c8f-aeb4-76a7abe22d05",
   "metadata": {},
   "source": [
    "## Basic operations\n",
    "TensorFlow allows you to perform various mathematical operations on tensors."
   ]
  },
  {
   "cell_type": "code",
   "execution_count": 9,
   "id": "a5700ce2-d21b-455c-819c-cb0f084004cb",
   "metadata": {},
   "outputs": [
    {
     "name": "stdout",
     "output_type": "stream",
     "text": [
      "Addition of vector: tf.Tensor([5 7 9], shape=(3,), dtype=int32)\n",
      "Multiplication of vector by 3: tf.Tensor([3 6 9], shape=(3,), dtype=int32)\n",
      "Matrix multiplication result:\n",
      " tf.Tensor(\n",
      "[[19 22]\n",
      " [43 50]], shape=(2, 2), dtype=int32)\n"
     ]
    }
   ],
   "source": [
    "# Addition\n",
    "tensor_add = tf.add(vector, [4, 5, 6])\n",
    "print(\"Addition of vector:\", tensor_add)\n",
    "\n",
    "# Multiplication\n",
    "tensor_mult = tf.multiply(vector, 3)\n",
    "print(\"Multiplication of vector by 3:\", tensor_mult)\n",
    "\n",
    "# Matrix multiplication\n",
    "matrix_a = tf.constant([[1, 2], [3, 4]])\n",
    "matrix_b = tf.constant([[5, 6], [7, 8]])\n",
    "matrix_mult = tf.matmul(matrix_a, matrix_b)\n",
    "print(\"Matrix multiplication result:\\n\", matrix_mult)\n"
   ]
  },
  {
   "cell_type": "markdown",
   "id": "7c22cde0-a4bf-44c2-9b1e-7e5066ecfd56",
   "metadata": {},
   "source": [
    "## TensorFlow Functions and Control Flow\n",
    "You can define functions in TensorFlow to apply transformations or operations repeatedly. TensorFlow provides control flow operations like tf.while_loop, tf.cond, etc., for conditional operations.\n",
    "\n",
    "Example (Conditional execution using tf.cond):"
   ]
  },
  {
   "cell_type": "code",
   "execution_count": 14,
   "id": "8804e79e-b0e0-4ab0-b8b6-d338e30fcdf2",
   "metadata": {},
   "outputs": [
    {
     "name": "stdout",
     "output_type": "stream",
     "text": [
      "Result with positive x (5): 10\n",
      "Result with negative x (-3): -5\n"
     ]
    }
   ],
   "source": [
    "import tensorflow as tf\n",
    "\n",
    "def conditional_example(x):\n",
    "    # tf.cond allows conditional execution based on a condition\n",
    "    return tf.cond(x > 0, lambda: x * 2, lambda: x - 2)\n",
    "\n",
    "# Test with positive value\n",
    "print(\"Result with positive x (5):\", conditional_example(tf.constant(5)).numpy())\n",
    "\n",
    "# Test with negative value\n",
    "print(\"Result with negative x (-3):\", conditional_example(tf.constant(-3)).numpy())\n"
   ]
  },
  {
   "cell_type": "markdown",
   "id": "fcc7bf38-d4bd-4ac5-a95f-d5493eefc243",
   "metadata": {},
   "source": []
  }
 ],
 "metadata": {
  "kernelspec": {
   "display_name": "Python 3 (ipykernel)",
   "language": "python",
   "name": "python3"
  },
  "language_info": {
   "codemirror_mode": {
    "name": "ipython",
    "version": 3
   },
   "file_extension": ".py",
   "mimetype": "text/x-python",
   "name": "python",
   "nbconvert_exporter": "python",
   "pygments_lexer": "ipython3",
   "version": "3.11.2"
  }
 },
 "nbformat": 4,
 "nbformat_minor": 5
}
