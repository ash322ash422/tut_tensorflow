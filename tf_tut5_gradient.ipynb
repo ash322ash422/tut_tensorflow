{
 "cells": [
  {
   "cell_type": "markdown",
   "id": "8533692e-55c4-4a76-8843-564f61ff6742",
   "metadata": {},
   "source": [
    "## gradient\n",
    "In TensorFlow, gradients are calculated to understand how changing input values or model parameters (like weights and biases) affects the output. Gradients are a key part of the backpropagation process used in training neural networks. TensorFlow makes gradient calculation simple using the tf.GradientTape context.\n",
    "\n",
    "How Gradient is Calculated\n",
    "1. Define the Context:\n",
    "- Use tf.GradientTape to record operations.\n",
    "- TensorFlow tracks computations within this context.\n",
    "\n",
    "2. Compute Loss: Define a loss function (e.g., mean squared error, cross-entropy).\n",
    "\n",
    "3. Calculate Gradients: Use the gradient() method of the tape to compute the derivatives of the loss with respect to the inputs or model parameters.\n",
    "\n",
    "## Why gradients\n",
    "1. Training Neural Networks:\n",
    "- Gradients help update model parameters during backpropagation using optimization algorithms like Gradient Descent. Example: Adjusting weights to minimize the loss function.\n",
    "2. Understanding Sensitivity: Gradients show how sensitive a model's output is to changes in inputs or parameters.\n",
    "3. Custom Training Loops: Gradients enable advanced users to build custom training workflows.\n",
    "4. Optimization: Gradients are essential for solving optimization problems in machine learning and beyond.\n",
    "\n",
    "TensorFlow simplifies gradient computation and allows it to be applied to complex models, making it an essential tool for deep learning.\n",
    "\n",
    "Example Code: Here’s a simple example:"
   ]
  },
  {
   "cell_type": "code",
   "execution_count": 1,
   "id": "1ab63337-2334-4cb7-a6c8-7a277e29bb7f",
   "metadata": {},
   "outputs": [
    {
     "name": "stdout",
     "output_type": "stream",
     "text": [
      "The gradient of y = x^2 at x = 3.0 is 6.0\n"
     ]
    }
   ],
   "source": [
    "import tensorflow as tf\n",
    "\n",
    "# Define a simple function: y = x^2\n",
    "x = tf.Variable(3.0)  # Define x as a trainable variable\n",
    "\n",
    "# Use GradientTape to record operations\n",
    "with tf.GradientTape() as tape:\n",
    "    y = x ** 2  # Compute y based on x\n",
    "\n",
    "# Calculate the gradient of y with respect to x\n",
    "grad = tape.gradient(y, x)\n",
    "print(f\"The gradient of y = x^2 at x = {x.numpy()} is {grad.numpy()}\")\n"
   ]
  },
  {
   "cell_type": "code",
   "execution_count": 3,
   "id": "e65592cc-a4ae-426c-ae8f-d81a68c0cbfa",
   "metadata": {},
   "outputs": [
    {
     "name": "stdout",
     "output_type": "stream",
     "text": [
      "The gradient of y = x^2 at x = 3.0 is 2.0\n"
     ]
    }
   ],
   "source": [
    "# Another example:\n",
    "import tensorflow as tf\n",
    "\n",
    "# Define a simple function: y = x^2\n",
    "x = tf.Variable(3.0)  # Define x as a trainable variable\n",
    "\n",
    "# Use GradientTape to record operations\n",
    "with tf.GradientTape() as tape:\n",
    "    y = 2*x + 2  # Compute y based on x\n",
    "\n",
    "# Calculate the gradient of y with respect to x\n",
    "grad = tape.gradient(y, x)\n",
    "print(f\"The gradient of y = x^2 at x = {x.numpy()} is {grad.numpy()}\")\n"
   ]
  },
  {
   "cell_type": "markdown",
   "id": "d0549b83-1fda-4a17-9d7b-67254af855f7",
   "metadata": {},
   "source": [
    "## practical use of gradient\n",
    "Example: Gradient Calculation in Linear Regression\n",
    "We’ll compute gradients to minimize the Mean Squared Error (MSE) between predicted and actual values using a custom training loop."
   ]
  },
  {
   "cell_type": "code",
   "execution_count": 12,
   "id": "dd1b389d-de41-40b6-9a24-a7a84f82593f",
   "metadata": {},
   "outputs": [
    {
     "name": "stdout",
     "output_type": "stream",
     "text": [
      "Epoch 1: Loss = 44.8100, Weight = 0.4440, Bias = 0.1212\n",
      "Epoch 2: Loss = 26.1335, Weight = 0.7830, Bias = 0.2133\n",
      "Epoch 3: Loss = 15.2497, Weight = 1.0420, Bias = 0.2833\n",
      "Epoch 4: Loss = 8.9070, Weight = 1.2397, Bias = 0.3363\n",
      "Epoch 5: Loss = 5.2107, Weight = 1.3908, Bias = 0.3764\n",
      "Epoch 6: Loss = 3.0565, Weight = 1.5063, Bias = 0.4066\n",
      "Epoch 7: Loss = 1.8011, Weight = 1.5945, Bias = 0.4293\n",
      "Epoch 8: Loss = 1.0693, Weight = 1.6619, Bias = 0.4463\n",
      "Epoch 9: Loss = 0.6428, Weight = 1.7135, Bias = 0.4588\n",
      "Epoch 10: Loss = 0.3941, Weight = 1.7530, Bias = 0.4680\n",
      "Epoch 11: Loss = 0.2491, Weight = 1.7833, Bias = 0.4747\n",
      "Epoch 12: Loss = 0.1644, Weight = 1.8065, Bias = 0.4794\n",
      "Epoch 13: Loss = 0.1150, Weight = 1.8243, Bias = 0.4826\n",
      "Epoch 14: Loss = 0.0861, Weight = 1.8380, Bias = 0.4847\n",
      "Epoch 15: Loss = 0.0691, Weight = 1.8486, Bias = 0.4859\n",
      "Epoch 16: Loss = 0.0591, Weight = 1.8567, Bias = 0.4865\n",
      "Epoch 17: Loss = 0.0532, Weight = 1.8630, Bias = 0.4866\n",
      "Epoch 18: Loss = 0.0496, Weight = 1.8680, Bias = 0.4863\n",
      "Epoch 19: Loss = 0.0474, Weight = 1.8719, Bias = 0.4856\n",
      "Epoch 20: Loss = 0.0461, Weight = 1.8749, Bias = 0.4848\n",
      "\n",
      "Trained Model: y = 1.8749x + 0.4848\n"
     ]
    },
    {
     "data": {
      "image/png": "[encoded data removed]",
      "text/plain": [
       "<Figure size 640x480 with 1 Axes>"
      ]
     },
     "metadata": {},
     "output_type": "display_data"
    }
   ],
   "source": [
    "import tensorflow as tf\n",
    "import matplotlib.pyplot as plt\n",
    "\n",
    "# Step 1: Define a simple dataset (X, Y)\n",
    "X = tf.constant([1.0, 2.0, 3.0, 4.0, 5.0])  # Features\n",
    "Y = tf.constant([2.0, 4.1, 6.0, 8.2, 10.0])  # Labels (slightly noisy)\n",
    "\n",
    "# Step 2: Define model parameters (weights and bias)\n",
    "weight = tf.Variable(0.0)  # Initial weight\n",
    "bias = tf.Variable(0.0)    # Initial bias\n",
    "\n",
    "# Step 3: Define the linear model\n",
    "def linear_model(x):\n",
    "    return weight * x + bias\n",
    "\n",
    "# Step 4: Define the loss function (Mean Squared Error)\n",
    "def compute_loss(y_true, y_pred):\n",
    "    return tf.reduce_mean((y_true - y_pred) ** 2)\n",
    "\n",
    "# Step 5: Training loop\n",
    "learning_rate = 0.01 # TODO: different values produces types of curves\n",
    "loss_values = []  # Store loss for each epoch\n",
    "for epoch in range(20):  # Train for 20 epochs\n",
    "    with tf.GradientTape() as tape:\n",
    "        # Compute predictions and loss\n",
    "        predictions = linear_model(X)\n",
    "        loss = compute_loss(Y, predictions)\n",
    "    \n",
    "    # Compute gradients of the loss w.r.t. parameters\n",
    "    gradients = tape.gradient(loss, [weight, bias])\n",
    "    \n",
    "    # Update parameters using the gradients\n",
    "    weight.assign_sub(learning_rate * gradients[0])  # weight = weight - learning_rate * grad[0]\n",
    "    bias.assign_sub(learning_rate * gradients[1])    # bias = bias - learning_rate * grad[1]\n",
    "    \n",
    "    # Save the loss value for plotting\n",
    "    loss_values.append(loss.numpy())\n",
    "    \n",
    "    # Print progress\n",
    "    print(f\"Epoch {epoch + 1}: Loss = {loss.numpy():.4f}, Weight = {weight.numpy():.4f}, Bias = {bias.numpy():.4f}\")\n",
    "\n",
    "# Final model parameters\n",
    "print(f\"\\nTrained Model: y = {weight.numpy():.4f}x + {bias.numpy():.4f}\")\n",
    "\n",
    "# Step 6: Plot the results\n",
    "# Original points\n",
    "plt.scatter(X.numpy(), Y.numpy(), color='blue', label='Data Points')\n",
    "\n",
    "# Fitted line\n",
    "x_vals = tf.linspace(0.0, 6.0, 100)  # Generate x values for the line\n",
    "y_vals = linear_model(x_vals)  # Predict y values using the trained model\n",
    "plt.plot(x_vals, y_vals, color='red', label='Fitted Line')\n",
    "\n",
    "# Titles and legend\n",
    "plt.title('Linear Regression with Gradient Descent')\n",
    "plt.xlabel('X')\n",
    "plt.ylabel('Y')\n",
    "plt.legend()\n",
    "\n",
    "# Display the plot\n",
    "plt.show()\n"
   ]
  },
  {
   "cell_type": "code",
   "execution_count": null,
   "id": "106e78f1-8559-4c7f-96de-7f6188ca0bde",
   "metadata": {},
   "outputs": [],
   "source": []
  }
 ],
 "metadata": {
  "kernelspec": {
   "display_name": "Python 3 (ipykernel)",
   "language": "python",
   "name": "python3"
  },
  "language_info": {
   "codemirror_mode": {
    "name": "ipython",
    "version": 3
   },
   "file_extension": ".py",
   "mimetype": "text/x-python",
   "name": "python",
   "nbconvert_exporter": "python",
   "pygments_lexer": "ipython3",
   "version": "3.11.2"
  }
 },
 "nbformat": 4,
 "nbformat_minor": 5
}
