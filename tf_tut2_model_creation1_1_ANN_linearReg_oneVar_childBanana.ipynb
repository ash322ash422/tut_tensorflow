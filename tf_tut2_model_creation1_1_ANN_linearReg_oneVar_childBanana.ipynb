{
 "cells": [
  {
   "cell_type": "markdown",
   "id": "668a39c2-f364-4d76-8049-091d95bed41e",
   "metadata": {
    "id": "668a39c2-f364-4d76-8049-091d95bed41e"
   },
   "source": [
    "## Using TensorFlow in Machine Learning: simple example\n",
    "One of the most common uses of TensorFlow is building and training machine learning models. Let’s create a simple neural network model using TensorFlow's high-level API, Keras.\n",
    "\n",
    "We'll build a simple model to predict y value for a given x value. I created CSV file where\n",
    "\n",
    "children: denotes number of children\n",
    "\n",
    "banana : denotes how many banana are eaten\n",
    "\n",
    "- This actually follows a simple relationship: banana = 1 + 2*children .  ( That is  y = 1 + 2x )\n"
   ]
  },
  {
   "cell_type": "code",
   "execution_count": 2,
   "id": "280f192f-5b33-4f4e-bf68-3b2b92b867a4",
   "metadata": {
    "executionInfo": {
     "elapsed": 51,
     "status": "ok",
     "timestamp": 1742453921858,
     "user": {
      "displayName": "Ashwani Kumar",
      "userId": "12600489681213202859"
     },
     "user_tz": -330
    },
    "id": "280f192f-5b33-4f4e-bf68-3b2b92b867a4"
   },
   "outputs": [],
   "source": [
    "import tensorflow as tf\n",
    "from tensorflow.keras import layers, models\n",
    "import numpy as np\n",
    "import pandas as pd\n",
    "import matplotlib.pyplot as plt"
   ]
  },
  {
   "cell_type": "markdown",
   "id": "hT9CijLeDHG1",
   "metadata": {
    "id": "hT9CijLeDHG1"
   },
   "source": [
    "**Data collection**\n",
    "\n",
    "Here we collect data"
   ]
  },
  {
   "cell_type": "code",
   "execution_count": 3,
   "id": "ac3f859b-92b9-4f4c-b071-d276c2092882",
   "metadata": {
    "colab": {
     "base_uri": "https://localhost:8080/"
    },
    "executionInfo": {
     "elapsed": 27,
     "status": "ok",
     "timestamp": 1742453924430,
     "user": {
      "displayName": "Ashwani Kumar",
      "userId": "12600489681213202859"
     },
     "user_tz": -330
    },
    "id": "ac3f859b-92b9-4f4c-b071-d276c2092882",
    "outputId": "a762afdd-2135-41e8-bc6e-b15a6d02784d"
   },
   "outputs": [
    {
     "name": "stdout",
     "output_type": "stream",
     "text": [
      "   children  banana\n",
      "0         1       3\n",
      "1         2       5\n",
      "2         3       7\n",
      "3         4       9\n"
     ]
    }
   ],
   "source": [
    "# Load data from CSV\n",
    "df = pd.read_csv(\"child_banana.csv\")  # Replace with your actual CSV file path\n",
    "# df = pd.read_csv(\"/content/sample_data/child_banana.csv\")  # Replace with your actual CSV file path\n",
    "\n",
    "print(df)"
   ]
  },
  {
   "cell_type": "code",
   "execution_count": 4,
   "id": "9df8d417-d203-4387-9759-50c88dfbc886",
   "metadata": {},
   "outputs": [
    {
     "name": "stdout",
     "output_type": "stream",
     "text": [
      "(4, 2)\n"
     ]
    }
   ],
   "source": [
    "print(df.shape)"
   ]
  },
  {
   "cell_type": "markdown",
   "id": "QzW0py0sDmQo",
   "metadata": {
    "id": "QzW0py0sDmQo"
   },
   "source": [
    "**Data cleaning and feature extraction done**\n",
    "\n",
    "**EDA:**\n",
    "Lets try our visualize our data"
   ]
  },
  {
   "cell_type": "code",
   "execution_count": 11,
   "id": "9f8b8a81-29ee-4a2c-8e53-eead1778d88c",
   "metadata": {
    "colab": {
     "base_uri": "https://localhost:8080/",
     "height": 410
    },
    "executionInfo": {
     "elapsed": 289,
     "status": "ok",
     "timestamp": 1742453927975,
     "user": {
      "displayName": "Ashwani Kumar",
      "userId": "12600489681213202859"
     },
     "user_tz": -330
    },
    "id": "9f8b8a81-29ee-4a2c-8e53-eead1778d88c",
    "outputId": "8cb9031d-2b82-4455-b4b0-ca35f1d1f43e"
   },
   "outputs": [
    {
     "name": "stdout",
     "output_type": "stream",
     "text": [
      "shape of X: (4, 1)\n",
      "shape of y: (4, 1)\n",
      "########################\n",
      "X:\n",
      "[[1.]\n",
      " [2.]\n",
      " [3.]\n",
      " [4.]]\n",
      "y:\n",
      "[[3.]\n",
      " [5.]\n",
      " [7.]\n",
      " [9.]]\n"
     ]
    }
   ],
   "source": [
    "# Assuming the CSV file has columns 'children' and 'banana'\n",
    "X = df[['children']].values.astype(np.float32)  # Extract 'x' column as NumPy array\n",
    "y = df[['banana']].values.astype(np.float32)  # Extract 'y' column as NumPy array\n",
    "\n",
    "# x = np.array([[1], [2], [3], [4]], dtype=np.float32)\n",
    "# y = np.array([[3], [5], [7], [9]], dtype=np.float32)  # y = 2x + 1\n",
    "\n",
    "print(f\"shape of X: {X.shape}\")\n",
    "print(f\"shape of y: {y.shape}\")\n",
    "print(\"########################\")\n",
    "print(f\"X:\\n{X}\")\n",
    "print(f\"y:\\n{y}\")"
   ]
  },
  {
   "cell_type": "code",
   "execution_count": 6,
   "id": "da0b03ea-a97f-46d2-b772-af2edff73e98",
   "metadata": {},
   "outputs": [
    {
     "data": {
      "image/png": "[encoded data removed]",
      "text/plain": [
       "<Figure size 600x400 with 1 Axes>"
      ]
     },
     "metadata": {},
     "output_type": "display_data"
    }
   ],
   "source": [
    "# Plot\n",
    "plt.figure(figsize=(6, 4))\n",
    "plt.scatter(X, y, color='blue', label='Data points')  # Scatter plot for points\n",
    "plt.plot(X, 2*X + 1, color='red', linestyle='--', label='y = 2x + 1')  # Line\n",
    "\n",
    "# Labels and Title\n",
    "plt.xlabel('X values(children)')\n",
    "plt.ylabel('Y values(banana)')\n",
    "plt.title('Plot of y = 2x + 1')\n",
    "plt.legend()\n",
    "plt.grid(True)\n",
    "\n",
    "# Show plot\n",
    "plt.show()"
   ]
  },
  {
   "cell_type": "markdown",
   "id": "VegIjVxDFNca",
   "metadata": {
    "id": "VegIjVxDFNca"
   },
   "source": [
    "**Build model**\n",
    " This is neural network with single neuron as input.\n"
   ]
  },
  {
   "cell_type": "code",
   "execution_count": 21,
   "id": "be795dad-36ee-4054-b0bc-c627b4ad1e61",
   "metadata": {
    "colab": {
     "base_uri": "https://localhost:8080/"
    },
    "executionInfo": {
     "elapsed": 2617,
     "status": "ok",
     "timestamp": 1742453934859,
     "user": {
      "displayName": "Ashwani Kumar",
      "userId": "12600489681213202859"
     },
     "user_tz": -330
    },
    "id": "be795dad-36ee-4054-b0bc-c627b4ad1e61",
    "outputId": "158ab93f-5d2e-4ec8-9af3-a7972a9e9e6b"
   },
   "outputs": [
    {
     "name": "stdout",
     "output_type": "stream",
     "text": [
      "Epoch 1/20\n"
     ]
    },
    {
     "name": "stderr",
     "output_type": "stream",
     "text": [
      "/usr/local/lib/python3.11/dist-packages/keras/src/layers/core/dense.py:87: UserWarning: Do not pass an `input_shape`/`input_dim` argument to a layer. When using Sequential models, prefer using an `Input(shape)` object as the first layer in the model instead.\n",
      "  super().__init__(activity_regularizer=activity_regularizer, **kwargs)\n"
     ]
    },
    {
     "name": "stdout",
     "output_type": "stream",
     "text": [
      "\u001b[1m1/1\u001b[0m \u001b[32m━━━━━━━━━━━━━━━━━━━━\u001b[0m\u001b[37m\u001b[0m \u001b[1m0s\u001b[0m 390ms/step - loss: 9.1139 - val_loss: 18.1114\n",
      "Epoch 2/20\n",
      "\u001b[1m1/1\u001b[0m \u001b[32m━━━━━━━━━━━━━━━━━━━━\u001b[0m\u001b[37m\u001b[0m \u001b[1m0s\u001b[0m 88ms/step - loss: 7.2109 - val_loss: 14.0160\n",
      "Epoch 3/20\n",
      "\u001b[1m1/1\u001b[0m \u001b[32m━━━━━━━━━━━━━━━━━━━━\u001b[0m\u001b[37m\u001b[0m \u001b[1m0s\u001b[0m 85ms/step - loss: 5.7067 - val_loss: 10.8157\n",
      "Epoch 4/20\n",
      "\u001b[1m1/1\u001b[0m \u001b[32m━━━━━━━━━━━━━━━━━━━━\u001b[0m\u001b[37m\u001b[0m \u001b[1m0s\u001b[0m 140ms/step - loss: 4.5177 - val_loss: 8.3188\n",
      "Epoch 5/20\n",
      "\u001b[1m1/1\u001b[0m \u001b[32m━━━━━━━━━━━━━━━━━━━━\u001b[0m\u001b[37m\u001b[0m \u001b[1m0s\u001b[0m 84ms/step - loss: 3.5778 - val_loss: 6.3741\n",
      "Epoch 6/20\n",
      "\u001b[1m1/1\u001b[0m \u001b[32m━━━━━━━━━━━━━━━━━━━━\u001b[0m\u001b[37m\u001b[0m \u001b[1m0s\u001b[0m 85ms/step - loss: 2.8348 - val_loss: 4.8627\n",
      "Epoch 7/20\n",
      "\u001b[1m1/1\u001b[0m \u001b[32m━━━━━━━━━━━━━━━━━━━━\u001b[0m\u001b[37m\u001b[0m \u001b[1m0s\u001b[0m 86ms/step - loss: 2.2475 - val_loss: 3.6908\n",
      "Epoch 8/20\n",
      "\u001b[1m1/1\u001b[0m \u001b[32m━━━━━━━━━━━━━━━━━━━━\u001b[0m\u001b[37m\u001b[0m \u001b[1m0s\u001b[0m 88ms/step - loss: 1.7833 - val_loss: 2.7847\n",
      "Epoch 9/20\n",
      "\u001b[1m1/1\u001b[0m \u001b[32m━━━━━━━━━━━━━━━━━━━━\u001b[0m\u001b[37m\u001b[0m \u001b[1m0s\u001b[0m 90ms/step - loss: 1.4162 - val_loss: 2.0863\n",
      "Epoch 10/20\n",
      "\u001b[1m1/1\u001b[0m \u001b[32m━━━━━━━━━━━━━━━━━━━━\u001b[0m\u001b[37m\u001b[0m \u001b[1m0s\u001b[0m 133ms/step - loss: 1.1261 - val_loss: 1.5502\n",
      "Epoch 11/20\n",
      "\u001b[1m1/1\u001b[0m \u001b[32m━━━━━━━━━━━━━━━━━━━━\u001b[0m\u001b[37m\u001b[0m \u001b[1m0s\u001b[0m 111ms/step - loss: 0.8967 - val_loss: 1.1405\n",
      "Epoch 12/20\n",
      "\u001b[1m1/1\u001b[0m \u001b[32m━━━━━━━━━━━━━━━━━━━━\u001b[0m\u001b[37m\u001b[0m \u001b[1m0s\u001b[0m 85ms/step - loss: 0.7154 - val_loss: 0.8291\n",
      "Epoch 13/20\n",
      "\u001b[1m1/1\u001b[0m \u001b[32m━━━━━━━━━━━━━━━━━━━━\u001b[0m\u001b[37m\u001b[0m \u001b[1m0s\u001b[0m 143ms/step - loss: 0.5720 - val_loss: 0.5940\n",
      "Epoch 14/20\n",
      "\u001b[1m1/1\u001b[0m \u001b[32m━━━━━━━━━━━━━━━━━━━━\u001b[0m\u001b[37m\u001b[0m \u001b[1m0s\u001b[0m 87ms/step - loss: 0.4587 - val_loss: 0.4180\n",
      "Epoch 15/20\n",
      "\u001b[1m1/1\u001b[0m \u001b[32m━━━━━━━━━━━━━━━━━━━━\u001b[0m\u001b[37m\u001b[0m \u001b[1m0s\u001b[0m 86ms/step - loss: 0.3690 - val_loss: 0.2874\n",
      "Epoch 16/20\n",
      "\u001b[1m1/1\u001b[0m \u001b[32m━━━━━━━━━━━━━━━━━━━━\u001b[0m\u001b[37m\u001b[0m \u001b[1m0s\u001b[0m 92ms/step - loss: 0.2982 - val_loss: 0.1919\n",
      "Epoch 17/20\n",
      "\u001b[1m1/1\u001b[0m \u001b[32m━━━━━━━━━━━━━━━━━━━━\u001b[0m\u001b[37m\u001b[0m \u001b[1m0s\u001b[0m 132ms/step - loss: 0.2421 - val_loss: 0.1232\n",
      "Epoch 18/20\n",
      "\u001b[1m1/1\u001b[0m \u001b[32m━━━━━━━━━━━━━━━━━━━━\u001b[0m\u001b[37m\u001b[0m \u001b[1m0s\u001b[0m 142ms/step - loss: 0.1978 - val_loss: 0.0749\n",
      "Epoch 19/20\n",
      "\u001b[1m1/1\u001b[0m \u001b[32m━━━━━━━━━━━━━━━━━━━━\u001b[0m\u001b[37m\u001b[0m \u001b[1m0s\u001b[0m 99ms/step - loss: 0.1627 - val_loss: 0.0421\n",
      "Epoch 20/20\n",
      "\u001b[1m1/1\u001b[0m \u001b[32m━━━━━━━━━━━━━━━━━━━━\u001b[0m\u001b[37m\u001b[0m \u001b[1m0s\u001b[0m 142ms/step - loss: 0.1349 - val_loss: 0.0208\n"
     ]
    }
   ],
   "source": [
    "import matplotlib.pyplot as plt\n",
    "from tensorflow.keras import models, layers\n",
    "\n",
    "model = models.Sequential([\n",
    "    layers.Dense(units=1, input_shape=(1,))  # Single neuron, single input\n",
    "])\n",
    "# Compile the model\n",
    "model.compile(optimizer='sgd', loss='mean_squared_error')\n",
    "\n",
    "# Train the model\n",
    "history = model.fit(X, y, epochs=20, verbose=1, validation_split=0.2)"
   ]
  },
  {
   "cell_type": "code",
   "execution_count": 22,
   "id": "f6128562-6d41-43b6-993e-fa2719169871",
   "metadata": {
    "colab": {
     "base_uri": "https://localhost:8080/",
     "height": 472
    },
    "executionInfo": {
     "elapsed": 277,
     "status": "ok",
     "timestamp": 1742453967231,
     "user": {
      "displayName": "Ashwani Kumar",
      "userId": "12600489681213202859"
     },
     "user_tz": -330
    },
    "id": "f6128562-6d41-43b6-993e-fa2719169871",
    "outputId": "c6404e90-0e3f-4b7d-eae2-24509482dfa6"
   },
   "outputs": [
    {
     "data": {
      "image/png": "[encoded data removed]",
      "text/plain": [
       "<Figure size 640x480 with 1 Axes>"
      ]
     },
     "metadata": {},
     "output_type": "display_data"
    }
   ],
   "source": [
    "# Plot the loss curve\n",
    "plt.plot(history.history['loss'], label='Training Loss')\n",
    "plt.plot(history.history.get('val_loss', []), label='Validation Loss')\n",
    "plt.xlabel('Epochs')\n",
    "plt.ylabel('Loss')\n",
    "plt.legend()\n",
    "plt.title('Training Loss Curve')\n",
    "plt.show()\n"
   ]
  },
  {
   "cell_type": "markdown",
   "id": "84ff6dc1-1a62-4efa-a9c4-0557ec1b1c55",
   "metadata": {
    "id": "84ff6dc1-1a62-4efa-a9c4-0557ec1b1c55"
   },
   "source": [
    "This process took 3 minutes on CPU for 500 epochs"
   ]
  },
  {
   "cell_type": "code",
   "execution_count": 23,
   "id": "rmQd4MMPOxuV",
   "metadata": {
    "colab": {
     "base_uri": "https://localhost:8080/"
    },
    "executionInfo": {
     "elapsed": 123,
     "status": "ok",
     "timestamp": 1742453971047,
     "user": {
      "displayName": "Ashwani Kumar",
      "userId": "12600489681213202859"
     },
     "user_tz": -330
    },
    "id": "rmQd4MMPOxuV",
    "outputId": "9382805e-6e2b-40b1-ab8f-fe3045ef6671"
   },
   "outputs": [
    {
     "name": "stdout",
     "output_type": "stream",
     "text": [
      "\u001b[1m1/1\u001b[0m \u001b[32m━━━━━━━━━━━━━━━━━━━━\u001b[0m\u001b[37m\u001b[0m \u001b[1m0s\u001b[0m 53ms/step\n",
      "predicted value:[[4.672372]]\n"
     ]
    }
   ],
   "source": [
    "# Lets make a prediction on 1 data and compare with actual value\n",
    "x_test =  np.array([2], dtype=np.float32).reshape(-1, 1)\n",
    "y_predict = model.predict(x_test)\n",
    "\n",
    "print(f'predicted value:{y_predict}')"
   ]
  },
  {
   "cell_type": "code",
   "execution_count": 7,
   "id": "7b5dff4d-fe34-493e-9855-940606b022c0",
   "metadata": {
    "colab": {
     "base_uri": "https://localhost:8080/"
    },
    "executionInfo": {
     "elapsed": 140,
     "status": "ok",
     "timestamp": 1742452494628,
     "user": {
      "displayName": "Ashwani Kumar",
      "userId": "12600489681213202859"
     },
     "user_tz": -330
    },
    "id": "7b5dff4d-fe34-493e-9855-940606b022c0",
    "outputId": "351440c2-0ef3-466f-b566-a8aafa62936a"
   },
   "outputs": [
    {
     "name": "stdout",
     "output_type": "stream",
     "text": [
      "\u001b[1m1/1\u001b[0m \u001b[32m━━━━━━━━━━━━━━━━━━━━\u001b[0m\u001b[37m\u001b[0m \u001b[1m0s\u001b[0m 56ms/step\n",
      "**************************\n",
      "     X  Predicted Y  Actual Y\n",
      "0  1.0     2.666539       3.0\n",
      "1  1.5     3.589488       4.0\n",
      "2  2.5     5.435386       6.0\n",
      "3  3.5     7.281282       8.0\n",
      "4  5.0    10.050129      11.0\n",
      "5  6.0    11.896026      13.0\n"
     ]
    }
   ],
   "source": [
    "# predict on range of values\n",
    "# x_test = np.array([[1], [1.5], [2.5], [3.5], [5], [6]], dtype=np.float32) # this works too.\n",
    "x_test =  np.array([1, 1.5, 2.5, 3.5, 5, 6], dtype=np.float32).reshape(-1, 1)\n",
    "y_predict = model.predict(x_test)\n",
    "\n",
    "# Compute actual y values based on equation y = 2*x + 1\n",
    "y_actual = 1 + 2 * x_test \n",
    "\n",
    "# Print predictions and actual values\n",
    "# print(\"Predictions vs Actual Values:\")\n",
    "# for i in range(len(x_test)):\n",
    "#     print(f\"x = {x_test[i][0]:.1f} | Predicted y = {y_predict[i][0]:.2f} | Actual y = {y_actual[i][0]:.2f}\")\n",
    "print(\"**************************\")\n",
    "\n",
    "# Or Create a DataFrame to store results\n",
    "df_results = pd.DataFrame({\n",
    "    'X': x_test.flatten(),\n",
    "    'Predicted Y': y_predict.flatten(),\n",
    "    'Actual Y': y_actual.flatten()\n",
    "})\n",
    "\n",
    "# Print DataFrame\n",
    "print(df_results)"
   ]
  },
  {
   "cell_type": "code",
   "execution_count": 8,
   "id": "c7bf90ec-829c-47b4-a99b-ade071285185",
   "metadata": {
    "colab": {
     "base_uri": "https://localhost:8080/",
     "height": 410
    },
    "executionInfo": {
     "elapsed": 606,
     "status": "ok",
     "timestamp": 1742452499527,
     "user": {
      "displayName": "Ashwani Kumar",
      "userId": "12600489681213202859"
     },
     "user_tz": -330
    },
    "id": "c7bf90ec-829c-47b4-a99b-ade071285185",
    "outputId": "9578b89b-b199-480d-973a-050736a8c757"
   },
   "outputs": [
    {
     "data": {
      "image/png": "[encoded data removed]",
      "text/plain": [
       "<Figure size 600x400 with 1 Axes>"
      ]
     },
     "metadata": {},
     "output_type": "display_data"
    }
   ],
   "source": [
    "# Plotting\n",
    "plt.figure(figsize=(6, 4))\n",
    "\n",
    "# Scatter plot of true data\n",
    "plt.scatter(X, y, color='blue', label='Training Data')\n",
    "\n",
    "# Scatter plot of predictions\n",
    "plt.scatter(x_test, y_predict, color='green', marker='x', label='Predictions')\n",
    "\n",
    "# True equation line\n",
    "x_line = np.linspace(0, 7, 100).reshape(-1, 1)  # Smoother line\n",
    "y_line = 1 + 2 * x_line\n",
    "plt.plot(x_line, y_line, color='red', linestyle='--', label='y = 2x + 1')\n",
    "\n",
    "# Labels and legend\n",
    "plt.xlabel('X values(children)')\n",
    "plt.ylabel('Y values(banana)')\n",
    "plt.title('Model Predictions vs True Equation')\n",
    "plt.legend()\n",
    "plt.grid(True)\n",
    "\n",
    "# Show plot\n",
    "plt.show()\n"
   ]
  },
  {
   "cell_type": "markdown",
   "id": "b4c67a8c-937a-4cd1-970e-2db8d3393f26",
   "metadata": {
    "id": "b4c67a8c-937a-4cd1-970e-2db8d3393f26"
   },
   "source": [
    "### Great\n",
    "So we have created simple NN that has learned from data(x,y), and was able to make pretty accurate predictions on test dataset."
   ]
  },
  {
   "cell_type": "code",
   "execution_count": 24,
   "id": "5fb559e6-9ed4-4b44-a321-754cab04573c",
   "metadata": {
    "colab": {
     "base_uri": "https://localhost:8080/"
    },
    "executionInfo": {
     "elapsed": 102,
     "status": "ok",
     "timestamp": 1742453978309,
     "user": {
      "displayName": "Ashwani Kumar",
      "userId": "12600489681213202859"
     },
     "user_tz": -330
    },
    "id": "5fb559e6-9ed4-4b44-a321-754cab04573c",
    "outputId": "2c7c5b5b-7d9c-4d21-f120-2af965c00ece"
   },
   "outputs": [
    {
     "name": "stdout",
     "output_type": "stream",
     "text": [
      "Model MSE: 0.0725\n",
      "Baseline MSE: 12.9167\n",
      "The model performs better than the baseline.\n"
     ]
    }
   ],
   "source": [
    "# # Evaluate the model on test data\n",
    "x_test = np.array([1, 1.5, 2.5, 3.5, 5, 6], dtype=np.float32).reshape(-1, 1)\n",
    "y_test = 2 * x_test + 1  # True values based on y = 2x + 1\n",
    "\n",
    "# Evaluate the model (returns only loss, since accuracy is not relevant for regression)\n",
    "test_loss = model.evaluate(x_test, y_test, verbose=0)\n",
    "\n",
    "# Calculate baseline MSE (predicting the mean of y_test)\n",
    "y_mean = np.mean(y_test)\n",
    "baseline_mse = np.mean((y_test - y_mean) ** 2)\n",
    "\n",
    "print(f\"Model MSE: {test_loss:.4f}\")\n",
    "print(f\"Baseline MSE: {baseline_mse:.4f}\")\n",
    "\n",
    "# Check if the model performs better than the baseline\n",
    "if test_loss < baseline_mse:\n",
    "    print(\"The model performs better than the baseline.\")\n",
    "else:\n",
    "    print(\"The model is not better than a simple mean predictor.\")\n"
   ]
  },
  {
   "cell_type": "code",
   "execution_count": null,
   "id": "485af5e8-1a73-468c-bbc6-10d29dfacde0",
   "metadata": {
    "id": "485af5e8-1a73-468c-bbc6-10d29dfacde0"
   },
   "outputs": [],
   "source": [
    "Tensorflow does not provide its own R-square values, so lets use scikit-learn to calculate R-square."
   ]
  },
  {
   "cell_type": "code",
   "execution_count": 11,
   "id": "2f22f2b0-bd23-4c88-8865-de45c5c85438",
   "metadata": {
    "colab": {
     "base_uri": "https://localhost:8080/"
    },
    "executionInfo": {
     "elapsed": 100,
     "status": "ok",
     "timestamp": 1742453067487,
     "user": {
      "displayName": "Ashwani Kumar",
      "userId": "12600489681213202859"
     },
     "user_tz": -330
    },
    "id": "2f22f2b0-bd23-4c88-8865-de45c5c85438",
    "outputId": "fcba8b1b-7154-4b0f-a9e7-d144668f78ba"
   },
   "outputs": [
    {
     "name": "stdout",
     "output_type": "stream",
     "text": [
      "\u001b[1m1/1\u001b[0m \u001b[32m━━━━━━━━━━━━━━━━━━━━\u001b[0m\u001b[37m\u001b[0m \u001b[1m0s\u001b[0m 35ms/step\n",
      "Mean Absolute Error (MAE): 0.6802\n",
      "Mean Squared Error (MSE): 0.5393\n",
      "R² Score: 0.9582\n"
     ]
    }
   ],
   "source": [
    "from sklearn.metrics import mean_absolute_error, mean_squared_error, r2_score\n",
    "\n",
    "# Predict values\n",
    "y_pred = model.predict(x_test)\n",
    "\n",
    "# Compute errors\n",
    "mae = mean_absolute_error(y_test, y_pred)\n",
    "mse = mean_squared_error(y_test, y_pred)\n",
    "r2 = r2_score(y_test, y_pred)\n",
    "\n",
    "# Print results\n",
    "print(f\"Mean Absolute Error (MAE): {mae:.4f}\")\n",
    "print(f\"Mean Squared Error (MSE): {mse:.4f}\")\n",
    "print(f\"R² Score: {r2:.4f}\")\n"
   ]
  },
  {
   "cell_type": "markdown",
   "id": "9ef4b9b9-187b-4e7b-9441-33d054d72049",
   "metadata": {
    "id": "9ef4b9b9-187b-4e7b-9441-33d054d72049"
   },
   "source": [
    "R-square is looking good. So lets save the model"
   ]
  },
  {
   "cell_type": "code",
   "execution_count": 25,
   "id": "01d92896-8b16-498b-93fe-7841f4f11de9",
   "metadata": {
    "executionInfo": {
     "elapsed": 38,
     "status": "ok",
     "timestamp": 1742453988451,
     "user": {
      "displayName": "Ashwani Kumar",
      "userId": "12600489681213202859"
     },
     "user_tz": -330
    },
    "id": "01d92896-8b16-498b-93fe-7841f4f11de9"
   },
   "outputs": [],
   "source": [
    "model.save(\"model.keras\")"
   ]
  },
  {
   "cell_type": "code",
   "execution_count": 26,
   "id": "8dd3c819-ff8c-445e-9af3-46e2ff599a09",
   "metadata": {
    "executionInfo": {
     "elapsed": 54,
     "status": "ok",
     "timestamp": 1742453992223,
     "user": {
      "displayName": "Ashwani Kumar",
      "userId": "12600489681213202859"
     },
     "user_tz": -330
    },
    "id": "8dd3c819-ff8c-445e-9af3-46e2ff599a09"
   },
   "outputs": [],
   "source": [
    "# Load the model back if you need in future\n",
    "\n",
    "loaded_model = tf.keras.models.load_model(\"model.keras\")\n"
   ]
  },
  {
   "cell_type": "code",
   "execution_count": null,
   "id": "6e6b368a-f13d-4f4a-93d7-8366fba1148a",
   "metadata": {
    "id": "6e6b368a-f13d-4f4a-93d7-8366fba1148a",
    "outputId": "1a1d2b3e-b765-403b-be26-7bc43c4f7245"
   },
   "outputs": [
    {
     "name": "stdout",
     "output_type": "stream",
     "text": [
      "WARNING:tensorflow:5 out of the last 7 calls to <function TensorFlowTrainer.make_predict_function.<locals>.one_step_on_data_distributed at 0x000001E567A2D120> triggered tf.function retracing. Tracing is expensive and the excessive number of tracings could be due to (1) creating @tf.function repeatedly in a loop, (2) passing tensors with different shapes, (3) passing Python objects instead of tensors. For (1), please define your @tf.function outside of the loop. For (2), @tf.function has reduce_retracing=True option that can avoid unnecessary retracing. For (3), please refer to https://www.tensorflow.org/guide/function#controlling_retracing and https://www.tensorflow.org/api_docs/python/tf/function for  more details.\n",
      "\u001b[1m1/1\u001b[0m \u001b[32m━━━━━━━━━━━━━━━━━━━━\u001b[0m\u001b[37m\u001b[0m \u001b[1m0s\u001b[0m 103ms/step\n",
      "[[2.5546505]\n",
      " [3.6377203]]\n"
     ]
    }
   ],
   "source": [
    "x_test = np.array([1, 1.5], dtype=np.float32).reshape(-1, 1)\n",
    "y_predict = loaded_model.predict(x_test)\n",
    "print(y_predict)"
   ]
  },
  {
   "cell_type": "markdown",
   "id": "3b3309d8-385a-4f50-9cef-44171c7e1bea",
   "metadata": {
    "id": "1e7c1529-749b-485b-a1e1-48f82bc73227"
   },
   "source": [
    "## TODO\n",
    "Add another column 'age' in seperate CSV file, where relationship is banana =  1 + 2 * children + .5 * age ( y = 1 + 2 * x1 + .5 * x2).\n",
    "\n",
    "Then use above model to make predictions. Do this in seperate notebook and follow exactly same steps as this one."
   ]
  },
  {
   "cell_type": "code",
   "execution_count": null,
   "id": "22430ae7-00af-4051-96ec-1c5ca102d509",
   "metadata": {},
   "outputs": [],
   "source": []
  }
 ],
 "metadata": {
  "colab": {
   "provenance": [
    {
     "file_id": "1T3JnRkmSbKEgOojacbavGtaA0unyBDrf",
     "timestamp": 1742452393319
    }
   ]
  },
  "kernelspec": {
   "display_name": "Python 3 (ipykernel)",
   "language": "python",
   "name": "python3"
  },
  "language_info": {
   "codemirror_mode": {
    "name": "ipython",
    "version": 3
   },
   "file_extension": ".py",
   "mimetype": "text/x-python",
   "name": "python",
   "nbconvert_exporter": "python",
   "pygments_lexer": "ipython3",
   "version": "3.11.2"
  }
 },
 "nbformat": 4,
 "nbformat_minor": 5
}
